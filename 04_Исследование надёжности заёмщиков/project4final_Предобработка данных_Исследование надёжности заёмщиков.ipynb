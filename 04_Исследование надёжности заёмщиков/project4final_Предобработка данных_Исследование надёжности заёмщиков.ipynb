{
Cells: [
{
Cell_type: "Markdown",
ID: "7E504D27",
metadata: {},
Source: [
# Study of the reliability of borrowers.
]
}
{
Cell_type: "Markdown",
ID: "7DFD5E04",
metadata: {},
Source: [
### Step 1. Data review
]
}
{
Cell_type: "Code",
Execution_count: 58,
ID: "903E349F",
metadata: {},
outputs: [],
Source: [
Import Pandas as PD
]
}
{
Cell_type: "Code",
Execution_count: 59,
ID: "7522C970",
metadata: {},
outputs: [
{
NAME: "StDout",
Output_type: "Stream",
Text: [
0 253875.639453 \ N,
1 112080.014102 \ n,
2 14585.952297 \ N,
3 267628.550329 \ N,
4 158616.077870 \ n,
Name: Total_income, Dtype: Float64 \ N
]
}
]
Source: [
df = pd.read_csv ('/datasets/data.csv') \ n,
Print (DF ['Total_income']. Head (5))
]
}
{
Cell_type: "Code",
Execution_count: 60,
ID: "5E1D3120",
metadata: {},
outputs: [
{
NAME: "StDout",
Output_type: "Stream",
Text: [
<class 'pandas.core.frame.dataframe'> \ n,
Rangeindex: 21525 Entries, 0 to 21524 \ N,
Data Columns (Total 12 Columns): \ N,
Children 21525 Non-Null Int64 \ N,
Days_employed 19351 Non-Null Float64 \ N,
Dob_years 21525 Non-null int64 \ n,
Education 21525 Non-Null Object \ N,
education_id 21525 Non-null int64 \ n,
Family_status 21525 Non-Null Object \ N,
Family_status_id 21525 Non-null int64 \ n,
Gender 21525 Non-Null Object \ N,
Income_type 21525 Non-Null Object \ N,
Debt 21525 Non-Null Int64 \ N,
Total_income 19351 Non-Null Float64 \ N,
Purpose 21525 Non-Null Object \ N,
Dtypes: Float64 (2), Int64 (5), Object (5) \ N,
Memory Usage: 2.0+ MB \ N
]
}
{
Data: {
Text/Plain: [
Index (['children', 'days_employed', 'dob_years', 'education', 'education_id', \ n,
       'Family_status', 'Family_status_id', 'Gender', 'Income_type', 'Debt', \ N,
       'Total_income', 'Purpose'], \ N,
      Dtype = 'Object')
]
}
Execution_count: 60,
metadata: {},
Output_type: "Excete_Result"
}
]
Source: [
# Correction in response to a comment v_1 \ n,
df.info () \ n,
df.columns
]
}
{
Cell_type: "Markdown",
ID: "C63C17A2",
metadata: {},
Source: [
### Step 2.1 Pass Filling
]
}
{
Cell_type: "Code",
Execution_count: 61,
ID: "A90F6389",
metadata: {},
outputs: [
{
NAME: "StDout",
Output_type: "Stream",
Text: [
Index (['children', 'days_employed', 'dob_years', 'education', 'education_id', \ n,
       'Family_status', 'Family_status_id', 'Gender', 'Income_type', 'Debt', \ N,
       'Total_income', 'Purpose'], \ N,
      Dtype = 'Object') \ n,
<class 'pandas.core.frame.dataframe'> \ n,
Rangeindex: 21525 Entries, 0 to 21524 \ N,
Data Columns (Total 12 Columns): \ N,
Children 21525 Non-Null Int64 \ N,
Days_employed 19351 Non-Null Float64 \ N,
Job_years 21525 Non-null int64 \ n,
Education 21525 Non-Null Object \ N,
education_id 21525 Non-null int64 \ n,
Family_status 21525 Non-Null Object \ N,
Family_status_id 21525 Non-null int64 \ n,
Gender 21525 Non-Null Object \ N,
Income_type 21525 Non-Null Object \ N,
Debt 21525 Non-Null Int64 \ N,
Total_income 19351 Non-Null Float64 \ N,
Purpose 21525 Non-Null Object \ N,
Dtypes: Float64 (2), Int64 (5), Object (5) \ N,
Memory Usage: 2.0+ MB \ N
]
}
]
Source: [
\ n,
\ n,
#We check the correctness of the headings of the column \ n,
print (df.columns) \ n,
df = df.rename (columns = {\ dob_years \ ": \" job_years \ "}) \ n",
#We will get general information about the Datafreim \ N,
df.info () \ n
]
}
{
Cell_type: "Code",
Execution_count: 62,
ID: "228f2b58",
metadata: {},
outputs: [
{
Data: {
Text/html: [
<div> \ n,
<Style sched> \ n,
    .Dataframe tbody tr through: only
        Vertical-align: Middle; \ N,
    } \ n,
\ n,
    .Dataframe tbody tr th {\ n,
        Vertical-align: top; \ n,
    } \ n,
\ n,
    .Dataframe thead th {\ n,
        Text-align: Right; \ N,
    } \ n,
</style> \ n,
<table border = \ 1 \ "class = \" Dataframe \ "> \ n",
  <TEAD> \ N,
    <Tr Style = \ Text-align: Right; \ "> \ N",
      <TH> </TH> \ N,
      <th> children </ple> \ n,
      <TH> Days_EMPLOYED </TH> \ N,
      <th> Job_years </ple> \ n,
      <th> education </ple> \ n,
      <th> education_id </ple> \ n,
      <TH> FAMILY_STATUS </TH> \ N,
      <TH> FAMILY_STATUS_ID </TH> \ N,
      <TH> Gender </TH> \ N,
      <th> income_type </ple> \ n,
      <th> debt </ple> \ n,
      <TH> TOTAL_INCOME </TH> \ N,
      <th> Purpose </ple> \ n,
    </ TR> \ N,
  </pead> \ n,
  <tbody> \ n,
    <TR> \ N,
      <td> 12 </td> \ n,
      <td> 0 </td> \ n,
      <td> nan </td> \ n,
      <td> 65 </td> \ n,
      <td> average </td> \ n,
      <td> 1 </td> \ n,
      <td> Civil marriage </td> \ n,
      <td> 1 </td> \ n,
      <td> m </td> \ n,
      <td> pensioner </td> \ n,
      <td> 0 </td> \ n,
      <td> nan </td> \ n,
      <td> Play the wedding </td> \ n,
    </ TR> \ N,
    <TR> \ N,
      <td> 26 </td> \ n,
      <td> 0 </td> \ n,
      <td> nan </td> \ n,
      <td> 41 </td> \ n,
      <td> average </td> \ n,
      <td> 1 </td> \ n,
      <td> married / married </td> \ n,
      <td> 0 </td> \ n,
      <td> m </td> \ n,
      <td> civil servant </td> \ n,
      <td> 0 </td> \ n,
      <td> nan </td> \ n,
      <td> Education </td> \ n,
    </ TR> \ N,
    <TR> \ N,
      <td> 29 </td> \ n,
      <td> 0 </td> \ n,
      <td> nan </td> \ n,
      <td> 63 </td> \ n,
      <td> average </td> \ n,
      <td> 1 </td> \ n,
      <td> is not married / not married </td> \ n,
      <td> 4 </td> \ n,
      <td> f </td> \ n,
      <td> pensioner </td> \ n,
      <td> 0 </td> \ n,
      <td> nan </td> \ n,
      <td> construction of residential real estate </td> \ n,
    </ TR> \ N,
    <TR> \ N,
      <td> 41 </td> \ n,
      <td> 0 </td> \ n,
      <td> nan </td> \ n,
      <td> 50 </td> \ n,
      <td> average </td> \ n,
      <td> 1 </td> \ n,
      <td> married / married </td> \ n,
      <td> 0 </td> \ n,
      <td> f </td> \ n,
      <td> civil servant </td> \ n,
      <td> 0 </td> \ n,
      <td> nan </td> \ n,
      <td> A transaction with a used car </td> \ n,
    </ TR> \ N,
    <TR> \ N,
      <td> 55 </td> \ n,
      <td> 0 </td> \ n,
      <td> nan </td> \ n,
      <td> 54 </td> \ n,
      <td> average </td> \ n,
      <td> 1 </td> \ n,
      <td> Civil marriage </td> \ n,
      <td> 1 </td> \ n,
      <td> f </td> \ n,
      <td> pensioner </td> \ n,
      <td> 1 </td> \ n,
      <td> nan </td> \ n,
      <td> Play the wedding </td> \ n,
    </ TR> \ N,
  </tbody> \ n,
</dable> \ n,
</div>
]
Text/Plain: [
    Children Days_employed Job_years Education_id \\\ N,
12 0 nan 65 average 1 \ n,
26 0 nan 41 average 1 \ n,
29 0 Nan 63 Average 1 \ N,
41 0 nan 50 average 1 \ n,
55 0 nan 54 average 1 \ n,
\ n,
            Family_status family_status_id gender income_type debt \\\ n,
12 Civil marriage 1 m pensioner 0 \ n,
26 married / married 0 m civil servant 0 \ n,
29 is not married / not married 4 f pensioner 0 \ n,
41 married / married 0 F civil servant 0 \ n,
55 Civil marriage 1 F Pensioner 1 \ N,
\ n,
    Total_income Purpose \ N,
12 nan play a wedding \ n,
26 nan education \ n,
29 NAN construction of residential real estate \ n,
41 nan transaction with a used car \ n,
55 nan play a wedding
]
}
Execution_count: 62,
metadata: {},
Output_type: "Excete_Result"
}
]
Source: [
#Describe what missed values ​​you discovered; \ n,
df [df ['days_employed']. Isna ()]. ​​Head (5)
]
}
{
Cell_type: "Code",
Execution_count: 63,
ID: "9A49D5A0",
metadata: {},
outputs: [
{
NAME: "StDout",
Output_type: "Stream",
Text: [
 What share is the missed values ​​of Days_employed: 0.10099883855981417 \ N
]
}
]
Source: [
#check what share of missing values ​​in each of the columns with passes; \ n,
len_col1_lack = Len (df ['days_employed']. Isna ()]) \ n,
len_all = len (df ['days_employed']) \ n,
Print ('What share is the missed values ​​of Days_employed:'+Str (len_col1_lack/len_all))
]
}
{
Cell_type: "Code",
Execution_count: 64,
ID: "353ADB78",
metadata: {},
outputs: [
{
NAME: "StDout",
Output_type: "Stream",
Text: [
 What share is the missed values ​​of Total_income: 0.10099883855981417 \ N
]
}
]
Source: [
#check what share of missing values ​​in each of the columns with passes; \ n,
len_col2_lack = len (df [df ['total_income']. Isna ()]) \ n,
Print ('What share is the missed values ​​of Total_income:'+Str (len_col2_lack/len_all))
]
}
{
Cell_type: "Markdown",
ID: "F54E16BB",
metadata: {},
Source: [
Give the possible causes of passes in the data; \ n,
-Cho - lack of official data on seniority and income \ n,
\ n,
Explain why filling in passes with a median value is the best solution for quantitative variables. \ n,
-In such a way, the that was absent from the initial values ​​will least be affected by the reliability of the final result (less anomaly). \ N,
\ n
]
}
{
Cell_type: "Code",
Execution_count: 65,
ID: "AA5E638",
metadata: {},
outputs: [
{
NAME: "StDout",
Output_type: "Stream",
Text: [
Median_income: 145017.93753253992 \ N,
0 \ n
]
}
]
Source: [
Median_income = DF ['Total_income']. Median (Skipna = True) \ N,
Print ('Median_income:'+Str (Median_income)) \ N,
df ['Total_income'] = DF ['Total_income']. Fillna (median_income) \ n,
Print (df [df ['total_income']. Isna ()]))
]
}
{
Cell_type: "Code",
Execution_count: 66,
ID: "D0D944AD",
metadata: {},
outputs: [
{
NAME: "StDout",
Output_type: "Stream",
Text: [
0 \ n,
<class 'pandas.core.frame.dataframe'> \ n,
Rangeindex: 21525 Entries, 0 to 21524 \ N,
Data Columns (Total 12 Columns): \ N,
Children 21525 Non-Null Int64 \ N,
Days_employed 21525 Non-Null Float64 \ N,
Job_years 21525 Non-null int64 \ n,
Education 21525 Non-Null Object \ N,
education_id 21525 Non-null int64 \ n,
Family_status 21525 Non-Null Object \ N,
Family_status_id 21525 Non-null int64 \ n,
Gender 21525 Non-Null Object \ N,
Income_type 21525 Non-Null Object \ N,
Debt 21525 Non-Null Int64 \ N,
Total_income 21525 Non-Null Float64 \ N,
Purpose 21525 Non-Null Object \ N,
Dtypes: Float64 (2), Int64 (5), Object (5) \ N,
Memory Usage: 2.0+ MB \ N
]
}
]
Source: [
Median_Days_employed = df ['days_employed']. Median (skipna = true) \ n,
df ['days_employed'] = df ['days_employed']. Fillna (Median_Days_employed) \ N,
print (df [df ['days_employed']. Isna ()])) \ n,
\ n,
#We will get general information about the Datafreim \ N,
df.info ()
]
}
{
Cell_type: "Markdown",
ID: "B64DC279",
metadata: {},
Source: [
### Step 2.2 Checking data for anomalies and correction.
]
}
{
Cell_type: "RAW",
ID: "8b1b1963",
metadata: {},
Source: [
Ok, thanks for the understanding. I will try to prevent such moments in subsequent work.
]
}
{
Cell_type: "Code",
Execution_count: Null,
ID: "CA0182B1",
metadata: {},
outputs: [],
Source: []
}
{
Cell_type: "RAW",
ID: "A4FC4F54",
metadata: {},
Source: [
The data in the 'Children' column are presented with several, in my opinion, distortions: the number of children is 20, 76 families, I think this is unrealistic data.
]
}
{
Cell_type: "Code",
Execution_count: 67,
ID: "4a924b62",
metadata: {},
outputs: [
{
NAME: "StDout",
Output_type: "Stream",
Text: [
[1 0 3 2 -1 4 20 5] \ n,
 0 14149 \ N,
 1 4818 \ n,
 2 2055 \ n,
 3 330 \ n,
 20 76 \ n,
-1 47 \ n,
 4 41 \ n,
 5 9 \ n,
NAME: Children, Dtype: int64 \ n
]
}
]
Source: [
Print (df ['children']. Unique ()) \ n,
Print (df ['children']. Value_counts ())
]
}
{
Cell_type: "Markdown",
ID: "3DA82ABE",
metadata: {},
Source: [
There are also deviations with negative values ​​of the indicator, I think this is also unrealistic. Correct this by filling out the values ​​with a median value calculated from the data without deviations.
]
}
{
Cell_type: "Code",
Execution_count: 68,
ID: "C22C2B3D",
metadata: {},
outputs: [
{
NAME: "StDout",
Output_type: "Stream",
Text: [
children <0: 47 \ n,
Median_children: 1 \ n,
children <0: 0 \ n,
Children> = 20: 76 \ N,
Children> = 20: 0 \ N
]
}
]
Source: [
#'children' \ n,
Print ('children <0:'+str (df [df ['children'] <0])))#deviations with negative values ​​of the indicator, I think this is also unrealistic \ n,
\ n,
Median_children = int (df [df ['children']> 0] ['children']. Median (skipna = true) \ n,
Print ('Median_children:'+Str (Median_children)) #median value calculated from the data, without deviations. \ n,
df.loc [df ['children'] <0, ['children']] = median_children \ n,
Print ('children <0:'+str (df [df ['children'] <0])) \ n,
\ n,
print ('children> = 20:'+str (df [df ['children']> = 20])))# The number of children is 20, in 76 families, I think this is unrealistic data \ n,
df.loc [df ['children'] == 20, ['children']] = median_children#median value calculated from data, without deviations. \ n,
Print ('Children> = 20:'+Str (df [df ['children'] = 20])))
]
}
{
Cell_type: "Code",
Execution_count: Null,
ID: "257F5F8B",
metadata: {},
outputs: [],
Source: []
}
{
Cell_type: "Code",
Execution_count: 69,
ID: "75E78932",
metadata: {},
outputs: [
{
NAME: "StDout",
Output_type: "Stream",
Text: [
Days_employed <0: 18080 \ n,
21505 338904 \ N,
21508 386497 \ N,
21509 362161 \ N,
21518 373995 \ N,
21521 343937 \ N,
NAME: Days_employed, Dtype: int64 \ n,
Series ([], name: days_employed, dtype: int64) \ n,
21520 4529 \ n,
21521 343937 \ N,
21522 2113 \ N,
21523 3112 \ N,
21524 1984 \ n,
NAME: Days_employed, Dtype: Int64 \ N
]
}
]
Source: [
#'Days_employed' \ n,
# the material type of data in the column for integrated \ n,
df ['days_employed'] = df ['days_employed']. Astype (int) \ n,
\ n,
#replace negative values ​​\ n,
Print ('Days_employed <0:'+str (Len (df [df ['days_employed'] <0])) \ n,
\ n,
# positive values ​​= 365213 This is a mistake \ n,
df.loc [df ['days_employed'] == 365213, ['days_employed']] = 0 \ n,
Print (df [df ['days_employed']> 0] ['days_employed']. Tail (5)) \ n,
\ n,
df.loc [df ['days_employed'] <0, ['days_employed']] = df.loc [df ['days_employed'] <0, ['days_employed'] * (-1) \ n,
Print (df [df ['days_employed'] <0] ['days_employed']. Tail (5)) \ n,
\ n,
Print (df ['days_employed']. Tail (5))
]
}
{
Cell_type: "Code",
Execution_count: 70,
ID: "E0ac6964",
metadata: {},
outputs: [
{
NAME: "StDout",
Output_type: "Stream",
Text: [
Job_years <0: 0 \ n,
Job_years> 100: 0 \ n
]
}
]
Source: [
Print ('Job_years <0:'+Str (df [df ['job_years'] <0])) \ n,
Print ('Job_years> 100:'+Str (Len (df [df ['job_years'] 100])))
]
}
{
Cell_type: "Code",
Execution_count: 71,
ID: "A428C7AF",
metadata: {},
outputs: [
{
NAME: "StDout",
Output_type: "Stream",
Text: [
average 15233 \ n,
Higher 5260 \ n,
Unfinished higher 744 \ n,
initial 282 \ n,
Scientific degree 6 \ n,
NAME: Education, DTYPE: Int64 \ N
]
}
]
Source: [
#translate to the same type of line with the formation \ n,
#We see that the data is more complete than education_id \ n,
df.loc [df ['education'] == 'middle', 'education'] = 'average' \ n,
df.loc [df ['education'] == 'middle', 'education'] = 'average' \ n,
df.loc [df ['education'] == 'higher', 'education'] = 'higher' \ n,
df.loc [df ['education'] == 'higher', 'education'] = 'higher' \ n,
df.loc [df ['education'] == 'Unfinished higher', 'education'] = 'Unfinished higher' \ n,
df.loc [df ['education'] == 'Unfinished higher', 'education'] = 'Unfinished higher' \ n,
df.loc [df ['education'] == 'initial', 'education'] = 'initial' \ n,
df.loc [df ['education'] == 'initial', 'education'] = 'initial' \ n,
df.loc [df ['education'] == 'Scientific degree', 'education'] = 'Scientific degree' \ n,
df.loc [df ['education'] == 'Scientific degree', 'education'] = 'Scientific degree' \ n,
Print (df ['education']. Value_counts (). Head (30)) \ n,
\ n,
# After removing duplicates, do the following: \ n,
# - Explain how you chose a method for searching and removing duplicates in data; \ n,
# - Visually \ n,
# - Give the possible reasons for the appearance of duplicates. \ n,
# - operator error
]
}
{
Cell_type: "Markdown",
ID: "03614CF6",
metadata: {},
Source: [
Thanks for the recommendation, I will use in the future.
]
}
{
Cell_type: "Code",
execution_count: 72,
ID: "21a69183",
metadata: {},
outputs: [
{
NAME: "StDout",
Output_type: "Stream",
Text: [
education_id <0: 0 \ n,
1 15233 \ n,
0 5260 \ n,
2 744 \ n,
NAME: Education_id, Dtype: Int64 \ N
]
}
]
Source: [
Print ('education_id <0:'+str (df [df ['education_id'] <0])) \ n,
Print (df ['education_id']. Value_counts (). Head (3)) #double education
]
}
{
Cell_type: "Code",
Execution_count: 73,
ID: "C117A2DB",
metadata: {},
outputs: [
{
NAME: "StDout",
Output_type: "Stream",
Text: [
married / married 12380 \ n,
Civil marriage 4177 \ N,
Not married / not married 2813 \ n,
in divorce 1195 \ n,
Widow / widow 960 \ n,
NAME: Family_status, Dtype: Int64 \ N
]
}
]
Source: [
print (df ['family_status']. Value_counts ())
]
}
{
Cell_type: "Code",
Execution_count: 74,
ID: "6F1B8463",
metadata: {},
outputs: [
{
NAME: "StDout",
Output_type: "Stream",
Text: [
0 12380 \ n,
1 4177 \ n,
4 2813 \ N,
3 1195 \ n,
2 960 \ n,
NAME: Family_status_id, Dtype: int64 \ n
]
}
]
Source: [
print (df ['family_status_id']. Value_counts (). Head ()) #doble family_status
]
}
{
Cell_type: "Code",
Execution_count: 75,
ID: "8DB8C67F",
metadata: {},
outputs: [
{
NAME: "StDout",
Output_type: "Stream",
Text: [
F 14236 \ N,
M 7288 \ n,
XNA 1 \ N,
NAME: Gender, Dtype: Int64 \ N,
F 14236 \ N,
M 7288 \ n,
NAME: Gender, DTYPE: Int64 \ N
]
}
]
Source: [
print (df ['gender']. Value_counts ()) \ n,
df.drop (df [df.gender == 'xna']. index, inplace = true) \ n,
Print (df ['gender']. Value_counts ())
]
}
{
Cell_type: "Code",
Execution_count: 76,
ID: "38EA033E",
metadata: {
Scrolld: True
}
outputs: [
{
NAME: "StDout",
Output_type: "Stream",
Text: [
employee 11119 \ N,
Companion 5084 \ N,
Pensioner 3856 \ N,
civil servant 1459 \ n,
Entrepreneur 2 \ n,
unemployed 2 \ n,
student 1 \ n,
in decree 1 \ n,
NAME: Income_type, Dtype: Int64 \ N
]
}
]
Source: [
print (df ['income_type']. Value_counts ()) \ n,
\ n,
\ n,
# After removing duplicates, do the following: \ n,
# - Explain how you chose a method for searching and removing duplicates in data; \ n,
# - Visually \ n,
# - Give the possible reasons for the appearance of duplicates. \ n,
# - operator error \ n
]
}
{
Cell_type: "Markdown",
ID: "fb5b310",
metadata: {},
Source: [
Under the influence of undocked considerations, he made an incorrect decision. It is not necessary to remove, corrected.
]
}
{
Cell_type: "Code",
Execution_count: 77,
ID: "4ae991a",
metadata: {},
outputs: [
{
NAME: "StDout",
Output_type: "Stream",
Text: [
Debt <= 0: 19783 \ n,
Debt> 100: 0 \ n,
0 0 \ n,
1 0 \ n,
2 0 \ n,
3 0 \ n,
4 0 \ n,
NAME: Debt, Dtype: int64 \ n,
14 1 \ n,
32 1 \ n,
38 1 \ n,
55 1 \ n,
75 1 \ n,
NAME: Debt, Dtype: int64 \ n
]
}
]
Source: [
Print ('Debt <= 0:'+str (df [df ['debt'] <= 0])) \ n,
Print ('Debt> 100:'+str (df [df ['debt']> 1000000])) \ n,
print (df ['debt']. Head ()) \ n,
print (df [df ['debt']> 0] ['debt']. Head ())
]
}
{
Cell_type: "Code",
Execution_count: 78,
ID: "482F1BAD",
metadata: {},
outputs: [
{
NAME: "StDout",
Output_type: "Stream",
Text: [
Total_income <0: 0 \ n,
Total_income> 1000000: 25 \ n
]
}
]
Source: [
Print ('Total_income <0:'+str (df [df ['Total_income'] <0])) \ n,
Print ('Total_income> 1000000:'+Str (Len (DF [DF ['Total_income']> 1000000])))) \ N,
df ['total_income'] = df ['total_income']. Astype (int)
]
}
{
Cell_type: "Code",
Execution_count: 79,
ID: "488992bb",
metadata: {},
outputs: [
{
NAME: "StDout",
Output_type: "Stream",
Text: [
There are duplicate lines: 71 \ n,
There are duplicates lines: 0 \ n
]
}
]
Source: [
#If the data contains lines-duplicates, delete them \ n,
Print ('contains lines-duplicates:'+str (Len (df [df.duplicated ()]))) \ n,
df.drop (df [df.duplicated ()]. ​​index, inplace = true) \ n,
Print ('contains lines-duplicates:'+str (Len (df [df.duplicated ()])))))
]
}
{
Cell_type: "Code",
Execution_count: 80,
ID: "C669CF16",
metadata: {
Scrolld: True
}
outputs: [
{
NAME: "StDout",
Output_type: "Stream",
Text: [
<class 'pandas.core.frame.dataframe'> \ n,
Int64index: 21453 Entries, 0 to 21524 \ N,
Data Columns (Total 12 Columns): \ N,
Children 21453 Non-Null Int64 \ N,
Days_employed 21453 Non-Null Int64 \ N,
Job_years 21453 Non-null int64 \ n,
Education 21453 Non-Null Object \ N,
education_id 21453 non-null int64 \ n,
Family_status 21453 Non-Null Object \ N,
Family_status_id 21453 Non-null int64 \ n,
Gender 21453 Non-Null Object \ N,
Income_type 21453 Non-Null Object \ N,
Debt 21453 Non-Null Int64 \ N,
Total_income 21453 Non-null int64 \ n,
Purpose 21453 Non-Null Object \ N,
DTYPES: int64 (7), Object (5) \ n,
Memory Usage: 2.1+ MB \ N
]
}
]
Source: [
df.info ()
]
}
{
Cell_type: "Markdown",
ID: "8A51CE50",
metadata: {},
Source: [
### Step 2.5. Formation of additional databrams of dictionaries, decomposition of the original Datuphamma.
]
}
{
Cell_type: "Code",
Execution_count: 81,
ID: "0DAFFBAC",
metadata: {},
outputs: [
{
NAME: "StDout",
Output_type: "Stream",
Text: [
<class 'pandas.core.frame.dataframe'> \ n,
Int64index: 21453 Entries, 0 to 21524 \ N,
Data Columns (Total 12 Columns): \ N,
Children 21453 Non-Null Int64 \ N,
Days_employed 21453 Non-Null Int64 \ N,
Job_years 21453 Non-null int64 \ n,
Education 21453 Non-Null Object \ N,
education_id 21453 non-null int64 \ n,
Family_status 21453 Non-Null Object \ N,
Family_status_id 21453 Non-null int64 \ n,
Gender 21453 Non-Null Object \ N,
Income_type 21453 Non-Null Object \ N,
Debt 21453 Non-Null Int64 \ N,
Total_income 21453 Non-null int64 \ n,
Purpose 21453 Non-Null Object \ N,
DTYPES: int64 (7), Object (5) \ n,
Memory Usage: 2.1+ MB \ N,
None \ n,
<class 'pandas.core.frame.dataframe'> \ n,
Int64index: 21453 Entries, 0 to 21524 \ N,
Data Columns (Total 12 Columns): \ N,
Children 21453 Non-Null Int64 \ N,
Days_employed 21453 Non-Null Int64 \ N,
Job_years 21453 Non-null int64 \ n,
Education 21453 Non-Null Object \ N,
education_id 21453 non-null int64 \ n,
Family_status 21453 Non-Null Object \ N,
Family_status_id 21453 Non-null int64 \ n,
Gender 21453 Non-Null Object \ N,
Income_type 21453 Non-Null Object \ N,
Debt 21453 Non-Null Int64 \ N,
Total_income 21453 Non-null int64 \ n,
Purpose 21453 Non-Null Object \ N,
DTYPES: int64 (7), Object (5) \ n,
Memory Usage: 2.1+ MB \ N,
None \ n
]
}
]
Source: [
# 5. Create two new databrames with columns: \ n,
# - `education_id` and` education` - in the first; \ n,
# - `family_status_id` and` family_status` - in the second. \ n,
\ n,
df_ed = df.loc [:, ['education_id', 'education']]. Copy () \ n,
df_fa = df.loc [:, ['family_status_id', 'family_status']]. Copy () \ n,
\ n,
# Удалите из исходного датафрейма столбцы `education` и `family_status`,\n,
# leaving only their identifiers: `education_id` and` family_status_id`. \ n,
Print (df.info ()) \ n,
df.drop_duplicates (inplace = true) \ n,
Print (df.info ())
]
}
{
Cell_type: "Code",
Execution_count: 82,
ID: "F00BF4BF",
metadata: {},
outputs: [],
Source: [
df_ed = df_ed.drop_duplicates (). Reset_index (Drop = True) \ N,
df_fa = df_fa.drop_duplicates (). Reset_index (Drop = TRUE) \ N
]
}
{
Cell_type: "Code",
Execution_count: 83,
ID: "F075230D",
metadata: {},
outputs: [
{
Data: {
Text/html: [
<div> \ n,
<Style sched> \ n,
    .Dataframe tbody tr through: only
        Vertical-align: Middle; \ N,
    } \ n,
\ n,
    .Dataframe tbody tr th {\ n,
        Vertical-align: top; \ n,
    } \ n,
\ n,
    .Dataframe thead th {\ n,
        Text-align: Right; \ N,
    } \ n,
</style> \ n,
<table border = \ 1 \ "class = \" Dataframe \ "> \ n",
  <TEAD> \ N,
    <Tr Style = \ Text-align: Right; \ "> \ N",
      <TH> </TH> \ N,
      <th> education_id </ple> \ n,
      <th> education </ple> \ n,
    </ TR> \ N,
  </pead> \ n,
  <tbody> \ n,
    <TR> \ N,
      <td> 0 </td> \ n,
      <td> 0 </td> \ n,
      <td> Higher </td> \ n,
    </ TR> \ N,
    <TR> \ N,
      <td> 1 </td> \ n,
      <td> 1 </td> \ n,
      <td> average </td> \ n,
    </ TR> \ N,
    <TR> \ N,
      <td> 2 </td> \ n,
      <td> 2 </td> \ n,
      <td> Unfinished higher </td> \ n,
    </ TR> \ N,
    <TR> \ N,
      <td> 3 </td> \ n,
      <td> 3 </td> \ n,
      <td> Initial </td> \ n,
    </ TR> \ N,
    <TR> \ N,
      <td> 4 </td> \ n,
      <td> 4 </td> \ n,
      <td> Scientific degree </td> \ n,
    </ TR> \ N,
  </tbody> \ n,
</dable> \ n,
</div>
]
Text/Plain: [
   education_id education \ n,
0 0 Higher \ n,
1 1 average \ n,
2 2 unfinished higher \ n,
3 3 initial \ n,
4 4 Scientific degree
]
}
Execution_count: 83,
metadata: {},
Output_type: "Excete_Result"
}
]
Source: [
DF_ED
]
}
{
Cell_type: "Code",
Execution_count: 84,
ID: "49CAC95F",
metadata: {},
outputs: [
{
Data: {
Text/html: [
<div> \ n,
<Style sched> \ n,
    .Dataframe tbody tr through: only
        Vertical-align: Middle; \ N,
    } \ n,
\ n,
    .Dataframe tbody tr th {\ n,
        Vertical-align: top; \ n,
    } \ n,
\ n,
    .Dataframe thead th {\ n,
        Text-align: Right; \ N,
    } \ n,
</style> \ n,
<table border = \ 1 \ "class = \" Dataframe \ "> \ n",
  <TEAD> \ N,
    <Tr Style = \ Text-align: Right; \ "> \ N",
      <TH> </TH> \ N,
      <TH> FAMILY_STATUS_ID </TH> \ N,
      <TH> FAMILY_STATUS </TH> \ N,
    </ TR> \ N,
  </pead> \ n,
  <tbody> \ n,
    <TR> \ N,
      <td> 0 </td> \ n,
      <td> 0 </td> \ n,
      <td> married / married </td> \ n,
    </ TR> \ N,
    <TR> \ N,
      <td> 1 </td> \ n,
      <td> 1 </td> \ n,
      <td> Civil marriage </td> \ n,
    </ TR> \ N,
    <TR> \ N,
      <td> 2 </td> \ n,
      <td> 2 </td> \ n,
      <td> Widow / widow </td> \ n,
    </ TR> \ N,
    <TR> \ N,
      <td> 3 </td> \ n,
      <td> 3 </td> \ n,
      <td> in divorce </td> \ n,
    </ TR> \ N,
    <TR> \ N,
      <td> 4 </td> \ n,
      <td> 4 </td> \ n,
      <td> is not married / not married </td> \ n,
    </ TR> \ N,
  </tbody> \ n,
</dable> \ n,
</div>
]
Text/Plain: [
   Family_status_id family_status \ n,
0 0 married / married \ n,
1 1 civil marriage \ n,
2 2 widow / widow \ n,
3 3 in divorce \ n,
4 4 is not married / not married
]
}
Execution_count: 84,
metadata: {},
Output_type: "Excete_Result"
}
]
Source: [
DF_FA
]
}
{
Cell_type: "Code",
Execution_count: Null,
ID: "D8168942",
metadata: {},
outputs: [],
Source: []
}
{
Cell_type: "Markdown",
ID: "AC138CE8",
metadata: {},
Source: [
### Step 2.6. Categorization of income.
]
}
{
Cell_type: "Code",
Execution_count: 85,
ID: "52a8165d",
metadata: {},
outputs: [
{
NAME: "StDout",
Output_type: "Stream",
Text: [
C \ N
]
}
{
Data: {
Text/Plain: [
0 b \ n,
1 c \ n,
2 C \ N,
3 b \ n,
4 C \ N,
5 b \ n,
6 b \ n,
7 c \ n,
8 c \ n,
9 C \ N,
NAME: Total_income_category, Dtype: Object
]
}
Execution_count: 85,
metadata: {},
Output_type: "Excete_Result"
}
]
Source: [
# 6. Based on the ranges indicated below, create a column `total_income_category` with categories: \ n,
# - 0–30000 - `'e'`; \ n,
# - 30001–50000 - `'d'`; \ n,
# - 50001–200000 - `'c'`; \ n,
# - 20001–1000000 - `'b'`; \ n,
# - 1000001 and above - `'A'''A. \ N,
\ n,
Def Cat_income (Total_income): \ N,
    run total_income <30000: \ n,
        return 'e' \ n,
    Elif Total_income <50000: \ n,
        return 'd' \ n,
    Elif Total_income <200,000: \ n,
        return 'c' \ n,
    Elif Total_income <1000000: \ n,
        return 'b' \ n,
    Elif Total_income> 1000000: \ N,
        return 'a' \ n,
    Else: return 'x' \ n,
\ n,
print (cat_income (55000)) \ n,
df ['total_income_category'] = df ['total_income']. Apply (cat_income) \ n,
DF ['Total_income_category']. Head (10)
]
}
{
Cell_type: "Code",
Execution_count: Null,
ID: "78DBB0EA",
metadata: {},
outputs: [],
Source: []
}
{
Cell_type: "Markdown",
ID: "B128DC96",
metadata: {},
Source: [
### Step 2.7. Categorization of loan goals.
]
}
{
Cell_type: "Code",
Execution_count: 86,
ID: "B3E5DD7C",
metadata: {},
outputs: [
{
NAME: "StDout",
Output_type: "Stream",
Text: [
Operations with a car \ n
]
}
{
Data: {
Text/Plain: [
Real estate operations 10810 \ n,
operations with a car 4306 \ n,
obtaining education 4013 \ n,
Wedding 2324 \ N,
NAME: Purpose_category, Dtype: Int64
]
}
Execution_count: 86,
metadata: {},
Output_type: "Excete_Result"
}
]
Source: [
# 7. Create a function that, on the basis of data from the column `Purpose` will form a new column \ n,
#`Purpose_category`, which will include the following categories: \ n,
# - `` Operations with car, \ n,
# - `'' operations with real estate, \ n,
# - `'holding a wedding'`, \ n,
# - `'receipt of education'. \ n,
\ n,
#print (df ['purpose']. Value_counts ()) \ n,
#options with keywords \ n,
# weddings \ n,
# immovable housing \ n,
# car \ n,
# educated \ n,
\ n,
Def Cat_purp (Purpose): \ N,
    run 'car' in Purpose: \ n,
        return 'Operations with a car' \ n,
    ELIF 'immovable' in Purpose: \ n,
        Return 'Real Estate Operations' \ N,
    Elif 'Wedding' in Purpose: \ N,
        Return 'Wedding' \ N,
    Elif 'educated' in Purpose: \ n,
        Return 'Obtaining Education' \ N,
    Elif 'Gilles' in Purpose: \ N,
        Return 'Real Estate Operations' \ N,
    Else: return 'x' \ n,
\ n,
Print (Cat_purp ('Motorist')) \ n,
df ['purpose_category'] = df ['purpose']. Apply (cat_purp) \ n,
df ['purpose_category']. Value_counts ()
]
}
{
Cell_type: "Markdown",
ID: "2127E7CF",
metadata: {},
Source: [
Conclusion by the step of the data of data: During the analysis of the data were \ n,
    Disadvantages have been identified, in particular duplicates, incorrect data, \ n,
    All of them were adjusted to obtain more suitable material for further processing. \ n,
#VALUE!
]
}
{
Cell_type: "Markdown",
ID: "E9373861",
metadata: {},
Source: [
### Answers on questions.
]
}
{
Cell_type: "Code",
Execution_count: 87,
ID: "729274F7",
metadata: {},
outputs: [
{
Data: {
Text/html: [
<div> \ n,
<Style sched> \ n,
    .Dataframe tbody tr through: only
        Vertical-align: Middle; \ N,
    } \ n,
\ n,
    .Dataframe tbody tr th {\ n,
        Vertical-align: top; \ n,
    } \ n,
\ n,
    .Dataframe thead tr th {\ n,
        Text-align: left; \ n,
    } \ n,
\ n,
    .Dataframe thead tr: Last-OF -type th {\ n,
        Text-align: Right; \ N,
    } \ n,
</style> \ n,
<table border = \ 1 \ "class = \" Dataframe \ "> \ n",
  <TEAD> \ N,
    <TR> \ N,
      <TH> </TH> \ N,
      <TH> COUNT </TH> \ N,
      <TH> SUM </TH> \ N,
      <th> mean </ple> \ n,
    </ TR> \ N,
    <TR> \ N,
      <TH> </TH> \ N,
      <th> debt </ple> \ n,
      <th> debt </ple> \ n,
      <th> debt </ple> \ n,
    </ TR> \ N,
    <TR> \ N,
      <TH> PURPOSE_CATEGORY </TH> \ N,
      <TH> </TH> \ N,
      <TH> </TH> \ N,
      <TH> </TH> \ N,
    </ TR> \ N,
  </pead> \ n,
  <tbody> \ n,
    <TR> \ N,
      <td> Operations with a car </td> \ n,
      <td> 4306 </td> \ n,
      <td> 403 </td> \ n,
      <td> 0.093590 </td> \ n,
    </ TR> \ N,
    <TR> \ N,
      <td> Real estate operations </td> \ n,
      <td> 10810 </td> \ n,
      <td> 782 </td> \ n,
      <td> 0.072340 </td> \ n,
    </ TR> \ N,
    <TR> \ N,
      <td> Obtaining education </td> \ n,
      <td> 4013 </td> \ n,
      <td> 370 </td> \ n,
      <td> 0.092200 </td> \ n,
    </ TR> \ N,
    <TR> \ N,
      <td> Wedding </td> \ n,
      <td> 2324 </td> \ n,
      <td> 186 </td> \ n,
      <td> 0.080034 </td> \ n,
    </ TR> \ N,
  </tbody> \ n,
</dable> \ n,
</div>
]
Text/Plain: [
                          Count Sum Mean \ N,
                           Debt Debt Debt \ n,
purpose_category \ n,
Operations with car 4306 403 0.093590 \ n,
Real estate operations 10810 782 0.072340 \ n,
Obtaining education 4013 370 0.092200 \ n,
Wedding 2324 186 0.080034
]
}
Execution_count: 87,
metadata: {},
Output_type: "Excete_Result"
}
]
Source: [
df.pivot_table (index = ['purpose_category'], values ​​= 'Debt', aggfunc = ['cuff', 'sum', 'mean'])
]
}
{
Cell_type: "Markdown",
ID: "BD969666",
metadata: {},
Source: [
\ Problematic \ "Clients is with the appointment of a loan for operations with a car and getting an education."
]
}
{
Cell_type: "Code",
Execution_count: Null,
ID: "65478936",
metadata: {},
outputs: [],
Source: []
}
{
Cell_type: "Code",
Execution_count: 88,
ID: "CA13ACA0",
metadata: {},
outputs: [
{
Data: {
Text/html: [
<div> \ n,
<Style sched> \ n,
    .Dataframe tbody tr through: only
        Vertical-align: Middle; \ N,
    } \ n,
\ n,
    .Dataframe tbody tr th {\ n,
        Vertical-align: top; \ n,
    } \ n,
\ n,
    .Dataframe thead tr th {\ n,
        Text-align: left; \ n,
    } \ n,
\ n,
    .Dataframe thead tr: Last-OF -type th {\ n,
        Text-align: Right; \ N,
    } \ n,
</style> \ n,
<table border = \ 1 \ "class = \" Dataframe \ "> \ n",
  <TEAD> \ N,
    <TR> \ N,
      <TH> </TH> \ N,
      <TH> COUNT </TH> \ N,
      <TH> SUM </TH> \ N,
      <th> mean </ple> \ n,
    </ TR> \ N,
    <TR> \ N,
      <TH> </TH> \ N,
      <th> debt </ple> \ n,
      <th> debt </ple> \ n,
      <th> debt </ple> \ n,
    </ TR> \ N,
    <TR> \ N,
      <TH> FAMILY_STATUS_ID </TH> \ N,
      <TH> </TH> \ N,
      <TH> </TH> \ N,
      <TH> </TH> \ N,
    </ TR> \ N,
  </pead> \ n,
  <tbody> \ n,
    <TR> \ N,
      <td> 0 </td> \ n,
      <td> 12339 </td> \ n,
      <td> 931 </td> \ n,
      <td> 0.075452 </td> \ n,
    </ TR> \ N,
    <TR> \ N,
      <td> 1 </td> \ n,
      <td> 4150 </td> \ n,
      <td> 388 </td> \ n,
      <td> 0.093494 </td> \ n,
    </ TR> \ N,
    <TR> \ N,
      <td> 2 </td> \ n,
      <td> 959 </td> \ n,
      <td> 63 </td> \ n,
      <td> 0.065693 </td> \ n,
    </ TR> \ N,
    <TR> \ N,
      <td> 3 </td> \ n,
      <td> 1195 </td> \ n,
      <td> 85 </td> \ n,
      <td> 0.071130 </td> \ n,
    </ TR> \ N,
    <TR> \ N,
      <td> 4 </td> \ n,
      <td> 2810 </td> \ n,
      <td> 274 </td> \ n,
      <td> 0.097509 </td> \ n,
    </ TR> \ N,
  </tbody> \ n,
</dable> \ n,
</div>
]
Text/Plain: [
                  Count Sum Mean \ N,
                   Debt Debt Debt \ n,
Family_status_id \ n,
0 12339 931 0.075452 \ N,
1 4150 388 0.093494 \ n,
2 959 63 0.065693 \ n,
3 1195 85 0.071130 \ n,
4 2810 274 ​​0.097509
]
}
Execution_count: 88,
metadata: {},
Output_type: "Excete_Result"
}
]
Source: [
df.pivot_table (index = ['Family_status_id'], Values ​​= 'Debt', aggfunk = ['cout', 'sum', 'mean'])
]
}
{
Cell_type: "Markdown",
ID: "CC17803B",
metadata: {},
Source: [
\ Problematic \ "customers are with 1 and 4 types of families"
]
}
{
Cell_type: "Markdown",
ID: "237483F6",
metadata: {},
Source: [
married / married 0 \ n,
Civil marriage 1 \ n,
Not married / not married 4 \ n,
in divorce 3 \ n,
widower / widow 2
]
}
{
Cell_type: "Code",
Execution_count: 89,
ID: "b530e6e",
metadata: {},
outputs: [
{
Data: {
Text/html: [
<div> \ n,
<Style sched> \ n,
    .Dataframe tbody tr through: only
        Vertical-align: Middle; \ N,
    } \ n,
\ n,
    .Dataframe tbody tr th {\ n,
        Vertical-align: top; \ n,
    } \ n,
\ n,
    .Dataframe thead tr th {\ n,
        Text-align: left; \ n,
    } \ n,
\ n,
    .Dataframe thead tr: Last-OF -type th {\ n,
        Text-align: Right; \ N,
    } \ n,
</style> \ n,
<table border = \ 1 \ "class = \" Dataframe \ "> \ n",
  <TEAD> \ N,
    <TR> \ N,
      <TH> </TH> \ N,
      <TH> COUNT </TH> \ N,
      <TH> SUM </TH> \ N,
      <th> mean </ple> \ n,
    </ TR> \ N,
    <TR> \ N,
      <TH> </TH> \ N,
      <th> debt </ple> \ n,
      <th> debt </ple> \ n,
      <th> debt </ple> \ n,
    </ TR> \ N,
    <TR> \ N,
      <TH> TOTAL_INCOME_CATEGORY </TH> \ N,
      <TH> </TH> \ N,
      <TH> </TH> \ N,
      <TH> </TH> \ N,
    </ TR> \ N,
  </pead> \ n,
  <tbody> \ n,
    <TR> \ N,
      <td> a </td> \ n,
      <td> 25 </td> \ n,
      <td> 2 </td> \ n,
      <td> 0.080000 </td> \ n,
    </ TR> \ N,
    <TR> \ N,
      <td> b </td> \ n,
      <td> 5040 </td> \ n,
      <td> 356 </td> \ n,
      <td> 0.070635 </td> \ n,
    </ TR> \ N,
    <TR> \ N,
      <td> c </td> \ n,
      <td> 16016 </td> \ n,
      <td> 1360 </td> \ n,
      <td> 0.084915 </td> \ n,
    </ TR> \ N,
    <TR> \ N,
      <td> d </td> \ n,
      <td> 350 </td> \ n,
      <td> 21 </td> \ n,
      <td> 0.060000 </td> \ n,
    </ TR> \ N,
    <TR> \ N,
      <td> e </td> \ n,
      <td> 22 </td> \ n,
      <td> 2 </td> \ n,
      <td> 0.090909 </td> \ n,
    </ TR> \ N,
  </tbody> \ n,
</dable> \ n,
</div>
]
Text/Plain: [
                       Count Sum Mean \ N,
                        Debt Debt Debt \ n,
total_income_category \ n,
A 25 2 0.080000 \ n,
B 5040 356 0.070635 \ n,
C 16016 1360 0.084915 \ N,
D 350 21 0.060000 \ N,
E 22 2 0.090909
]
}
Execution_count: 89,
metadata: {},
Output_type: "Excete_Result"
}
]
Source: [
df.pivot_table (index = ['total_income_category'], values ​​= 'Debt', aggfunk = ['count', 'sum', 'mean'])
]
}
{
Cell_type: "Markdown",
ID: "846409A8",
metadata: {},
Source: [
\ Problem \ "Clients is with E and with the category of income"
]
}
{
Cell_type: "Code",
Execution_count: Null,
ID: "ACFF4633",
metadata: {},
outputs: [],
Source: []
}
{
Cell_type: "Code",
Execution_count: 90,
ID: "cd1cc5a",
metadata: {},
outputs: [
{
Data: {
Text/html: [
<div> \ n,
<Style sched> \ n,
    .Dataframe tbody tr through: only
        Vertical-align: Middle; \ N,
    } \ n,
\ n,
    .Dataframe tbody tr th {\ n,
        Vertical-align: top; \ n,
    } \ n,
\ n,
    .Dataframe thead tr th {\ n,
        Text-align: left; \ n,
    } \ n,
\ n,
    .Dataframe thead tr: Last-OF -type th {\ n,
        Text-align: Right; \ N,
    } \ n,
</style> \ n,
<table border = \ 1 \ "class = \" Dataframe \ "> \ n",
  <TEAD> \ N,
    <TR> \ N,
      <TH> </TH> \ N,
      <TH> COUNT </TH> \ N,
      <TH> SUM </TH> \ N,
      <th> mean </ple> \ n,
    </ TR> \ N,
    <TR> \ N,
      <TH> </TH> \ N,
      <th> debt </ple> \ n,
      <th> debt </ple> \ n,
      <th> debt </ple> \ n,
    </ TR> \ N,
    <TR> \ N,
      <th> children </ple> \ n,
      <TH> </TH> \ N,
      <TH> </TH> \ N,
      <TH> </TH> \ N,
    </ TR> \ N,
  </pead> \ n,
  <tbody> \ n,
    <TR> \ N,
      <td> 0 </td> \ n,
      <td> 14090 </td> \ n,
      <td> 1063 </td> \ n,
      <td> 0.075444 </td> \ n,
    </ TR> \ N,
    <TR> \ N,
      <td> 1 </td> \ n,
      <td> 4931 </td> \ n,
      <td> 453 </td> \ n,
      <td> 0.091868 </td> \ n,
    </ TR> \ N,
    <TR> \ N,
      <td> 2 </td> \ n,
      <td> 2052 </td> \ n,
      <td> 194 </td> \ n,
      <td> 0.094542 </td> \ n,
    </ TR> \ N,
    <TR> \ N,
      <td> 3 </td> \ n,
      <td> 330 </td> \ n,
      <td> 27 </td> \ n,
      <td> 0.081818 </td> \ n,
    </ TR> \ N,
    <TR> \ N,
      <td> 4 </td> \ n,
      <td> 41 </td> \ n,
      <td> 4 </td> \ n,
      <td> 0.097561 </td> \ n,
    </ TR> \ N,
    <TR> \ N,
      <td> 5 </td> \ n,
      <td> 9 </td> \ n,
      <td> 0 </td> \ n,
      <td> 0.000000 </td> \ n,
    </ TR> \ N,
  </tbody> \ n,
</dable> \ n,
</div>
]
Text/Plain: [
          Count Sum Mean \ N,
           Debt Debt Debt \ n,
children \ n,
0 14090 1063 0.075444 \ n,
1 4931 453 0.091868 \ n,
2 2052 194 0.094542 \ n,
3 330 27 0.081818 \ N,
4 41 4 0.097561 \ n,
5 9 0 0.0000
]
}
Execution_count: 90,
metadata: {},
Output_type: "Excete_Result"
}
]
Source: [
 df.pivot_table (index = ['children'], values ​​= 'debt', aggfunc = ['count', 'sum', 'mean'])
]
}
{
Cell_type: "Markdown",
ID: "C166C06A",
metadata: {},
Source: [
\ Problematic \ "Clients is with 1.2 and 4 children."
]
}
{
Cell_type: "Markdown",
ID: "9E0F9C77",
metadata: {},
Source: [
I counted the shares by the formula.
]
}
{
Cell_type: "Markdown",
ID: "750951ad",
metadata: {},
Source: [
## General conclusion:
]
}
{
Cell_type: "Markdown",
ID: "3B1CCF95",
metadata: {},
Source: [
Problem: We need to figure out whether the marital status and the number of clients of the client affect the fact of repayment of the loan on time. \ n,
\ n,
General conclusion: In the study, data on the solvency of various categories of customers were used. The data were cleared of anomalies and are brought to the form convenient for obtaining conclusions, namely, on the final tables, we see the shares of debtors by categories. Based on the results, we can draw the following conclusion - marital status affects the fact of repayment of a loan on time, the number of children also affects, but a little less noticeable. \ N
]
}
]
metadata: {
Kernelspec: {
Display_name: "Python 3",
Language: "Python",
NAME: "Python3"
}
Language_info: {
codemiror_mode: {
NAME: "IPYTHON",
Version: 3
}
File_EXTension: ".PY",
Mimitype: "Text/X-Python",
NAME: "Python",
nbConvert_Exporter: "Python",
pygments_lexer: "ipython3",
Version: "3.8.8"
}
TOC: {
Base_numbering: 1,
nav_menu: {},
Number_Sections: True,
Sidebar: True,
skip_h1_title: false,
Title_cell: "Table of Contents",
Title_sidebar: "Contents",
Toc_cell: false,
TOC_POSition: {},
TOC_Sction_DISPLAY: True,
Toc_window_Display: FALSE
}
}
Nbformat: 4,
nbformat_minor: 5
}
