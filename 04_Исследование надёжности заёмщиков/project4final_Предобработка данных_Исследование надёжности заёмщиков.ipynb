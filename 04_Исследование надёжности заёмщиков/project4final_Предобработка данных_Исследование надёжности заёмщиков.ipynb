{
"Cells": [
{
"cell_type": "markdown",
"id": "7E504D27",
"metadata": {},
"source": [
~# Study of the reliability of borrowers."
]
}
{
"cell_type": "markdown",
"id": "7DFD5E04",
"metadata": {},
"source": [
"### Step 1. Data review"
]
}
{
"cell_type": "code",
"execution_count": 58,
"id": "903E349F",
"metadata": {},
"outputs": [],
"source": [
"import pandas as pd"
]
}
{
"cell_type": "code",
"execution_count": 59,
"id": "7522c970",
"metadata": {},
"outputs": [
{
"name": "stdout",
"output_type": "stream",
"text": [
"0 253875.639453 \ n",
"1 112080.014102 \ n",
"2 145885.952297 \ n",
"3 267628.550329 \ n",
"4 158616.077870 \ n",
"Name: total_income, dtype: float64 \ n"
]
}
]
"source": [
"df = pd.read_csv ('/datas/data.csv') \ n",
"print (df ['total_income']. Head (5))"
]
}
{
"cell_type": "code",
"execution_count": 60,
"id": "5e1D3120",
"metadata": {},
"outputs": [
{
"name": "stdout",
"output_type": "stream",
"text": [
"<class 'pandas.core.frame.dataframe'> \ n",
"Rangeindex: 21525 entries, 0 to 21524 \ n",
"Data Columns (Total 12 Columns): \ n",
"children 21525 non-null int64 \ n",
"days_employed 19351 non-null float64 \ n",
"dob_years 21525 non-null int64 \ n",
"education 21525 Non-null Object \ n",
"education_id 21525 non-null int64 \ n",
"Family_status 21525 Non-Null Object \ N",
"family_status_id 21525 non-null int64 \ n",
"Gender 21525 Non-Null Object \ N",
"income_type 21525 non-null object \ n",
"Debt 21525 Non-null int64 \ n",
"total_income 19351 non-null float64 \ n",
"Purpose 21525 Non-Null Object \ N",
"dtypes: float64 (2), int64 (5), object (5) \ n",
"memory usage: 2.0+ mb \ n"
]
}
{
"data": {
"text/plin": [
"Index (['children', 'days_employed', 'dob_years', 'education', 'education_id', \ n",
"'Family_status', 'Family_status_id', 'Gender', 'Income_type', 'Debt', \ N",
"'Total_income', 'Purpose'], \ n",
"dtype = 'object')"
]
}
"execution_count": 60,
"metadata": {},
"output_type": "execute_result"
}
]
"source": [
~# Correction in response to a comment v_1 \ n",
"df.info () \ n",
"df.columns"
]
}
{
"cell_type": "markdown",
"id": "c63c17a2",
"metadata": {},
"source": [
"### Step 2.1 filling in passes"
]
}
{
"cell_type": "code",
"execution_count": 61,
"id": "a90f6389",
"metadata": {},
"outputs": [
{
"name": "stdout",
"output_type": "stream",
"text": [
"Index (['children', 'days_employed', 'dob_years', 'education', 'education_id', \ n",
"'Family_status', 'Family_status_id', 'Gender', 'Income_type', 'Debt', \ N",
"'Total_income', 'Purpose'], \ n",
"dtype = 'object') \ n",
"<class 'pandas.core.frame.dataframe'> \ n",
"Rangeindex: 21525 entries, 0 to 21524 \ n",
"Data Columns (Total 12 Columns): \ n",
"children 21525 non-null int64 \ n",
"days_employed 19351 non-null float64 \ n",
"job_years 21525 non-null int64 \ n",
"education 21525 Non-null Object \ n",
"education_id 21525 non-null int64 \ n",
"Family_status 21525 Non-Null Object \ N",
"family_status_id 21525 non-null int64 \ n",
"Gender 21525 Non-Null Object \ N",
"income_type 21525 non-null object \ n",
"Debt 21525 Non-null int64 \ n",
"total_income 19351 non-null float64 \ n",
"Purpose 21525 Non-Null Object \ N",
"dtypes: float64 (2), int64 (5), object (5) \ n",
"memory usage: 2.0+ mb \ n"
]
}
]
"source": [
"\ n",
"\ n",
~#We check the correctness of the headings of the columns \ n",
"print (df.columns) \ n",
"df = df.rename (columns = {\ "dob_years \": \ "job_years \}) \ n",
~#We will get general information about the Dataframe \ N",
"df.info () \ n"
]
}
{
"cell_type": "code",
"execution_count": 62,
"id": "228f2b58",
"metadata": {},
"outputs": [
{
"data": {
"text/html": [
"<div> \ n",
"<style scope> \ n",
".Dataframe tbody tr through: of
"vertical-align: micidle; \ n",
~} \ n",
"\ n",
".Dataframe tbody tr th {\ n",
"vertical-align: top; \ n",
~} \ n",
"\ n",
".Dataframe thead th {\ n",
"text-align: right; \ n",
~} \ n",
"</style> \ n",
"<table border = \ "1 \ "class = \ "dataframe \"> \ n",
"<pead> \ n",
"<tr style = \ "text-align: right; \"> \ n",
"<T> </TH> \ n",
"<TH> children </TH> \ n",
"<f> day_employed </ple> \ n",
"<f> job_years </ple> \ n",
"<T> education </TH> \ n",
"<T> education_id </ple> \ n",
"<f> family_status </ple> \ n",
"<TH> FAMILY_STATUS_ID </TH> \ N",
"<TH> Gender </TH> \ N",
"<t> income_type </ple> \ n",
"<t> debt </th> \ n",
"<f> total_income </ple> \ n",
"<f> purpose </ple> \ n",
"</ tr> \ n",
"</pead> \ n",
"<tbody> \ n",
"<tr> \ n",
"<td> 12 </td> \ n",
"<td> 0 </td> \ n",
"<td> nan </td> \ n",
"<td> 65 </td> \ n",
"<td> average </td> \ n",
"<td> 1 </td> \ n",
"<td> civil marriage </td> \ n",
"<td> 1 </td> \ n",
"<td> m </td> \ n",
"<td> pensioner </td> \ n",
"<td> 0 </td> \ n",
"<td> nan </td> \ n",
"<td> play the wedding </td> \ n",
"</ tr> \ n",
"<tr> \ n",
"<td> 26 </td> \ n",
"<td> 0 </td> \ n",
"<td> nan </td> \ n",
"<td> 41 </td> \ n",
"<td> average </td> \ n",
"<td> 1 </td> \ n",
"<td> married / married </td> \ n",
"<td> 0 </td> \ n",
"<td> m </td> \ n",
"<td> civil servant </td> \ n",
"<td> 0 </td> \ n",
"<td> nan </td> \ n",
"<td> education </td> \ n",
"</ tr> \ n",
"<tr> \ n",
"<td> 29 </td> \ n",
"<td> 0 </td> \ n",
"<td> nan </td> \ n",
"<td> 63 </td> \ n",
"<td> average </td> \ n",
"<td> 1 </td> \ n",
"<td> not married / not married </td> \ n",
"<td> 4 </td> \ n",
"<td> f </td> \ n",
"<td> pensioner </td> \ n",
"<td> 0 </td> \ n",
"<td> nan </td> \ n",
"<td> construction of residential real estate </td> \ n",
"</ tr> \ n",
"<tr> \ n",
"<td> 41 </td> \ n",
"<td> 0 </td> \ n",
"<td> nan </td> \ n",
"<td> 50 </td> \ n",
"<td> average </td> \ n",
"<td> 1 </td> \ n",
"<td> married / married </td> \ n",
"<td> 0 </td> \ n",
"<td> f </td> \ n",
"<td> civil servant </td> \ n",
"<td> 0 </td> \ n",
"<td> nan </td> \ n",
"<td> transaction with a used car </td> \ n",
"</ tr> \ n",
"<tr> \ n",
"<td> 55 </td> \ n",
"<td> 0 </td> \ n",
"<td> nan </td> \ n",
"<td> 54 </td> \ n",
"<td> average </td> \ n",
"<td> 1 </td> \ n",
"<td> civil marriage </td> \ n",
"<td> 1 </td> \ n",
"<td> f </td> \ n",
"<td> pensioner </td> \ n",
"<td> 1 </td> \ n",
"<td> nan </td> \ n",
"<td> play the wedding </td> \ n",
"</ tr> \ n",
"</tbody> \ n",
"</Table> \ n",
"</ DIV>"
]
"text/plin": [
"children Days_employed Job_years education_id \\\ n",,
"12 0 nan 65 average 1 \ n",
"26 0 nan 41 average 1 \ n",
"29 0 nan 63 average 1 \ n",
"41 0 nan 50 average 1 \ n",
"55 0 nan 54 average 1 \ n",
"\ n",
"family_status family_status_id gender income_type def \\\ n",
"12 Civil marriage 1 m pensioner 0 \ n",
"26 married / married 0 m civil servant 0 \ n",
"29 is not married / not married 4 f pensioner 0 \ n",
"41 married / married 0 F civil servant 0 \ n",
"55 Civil Marriage 1 F Pensioner 1 \ N",
"\ n",
"total_income purpose \ n",
"12 nan play a wedding \ n",
"26 nan education \ n",
"29 nan construction of residential real estate \ n",
"41 nan transaction with a used car \ n",
"55 nan play a wedding"
]
}
"execution_count": 62,
"metadata": {},
"output_type": "execute_result"
}
]
"source": [
~#Describe what missed values ​​you discovered; \ n",
"df [df ['days_employed']. Isna ()]. ​​Head (5)"
]
}
{
"cell_type": "code",
"execution_count": 63,
"id": "9a49D5A0",
"metadata": {},
"outputs": [
{
"name": "stdout",
"output_type": "stream",
"text": [
"What share are missed values ​​of Days_employed: 0.10099883855981417 \ N"
]
}
]
"source": [
~#check what share of missing values ​​in each of the columns with passes; \ n",
"len_col1_lack = len (df ['days_employed']. Isna ()]) \ n",
"len_all = len (df ['days_employed']) \ n",
"print ('What share is the missed values ​​of Days_employed:'+str (len_col1_lack/len_all))"
]
}
{
"cell_type": "code",
"execution_count": 64,
"id": "353ADB78",
"metadata": {},
"outputs": [
{
"name": "stdout",
"output_type": "stream",
"text": [
"What share are the missed values ​​of the total_income: 0.10099883855981417 \ n"
]
}
]
"source": [
~#check what share of missing values ​​in each of the columns with passes; \ n",
"len_col2_lack = len (df [df ['total_income']. Isna ()]) \ n",
"print ('What share is the missed values ​​of Total_income:'+Str (len_col2_lack/len_all))"
]
}
{
"cell_type": "markdown",
"id": "f54e16bb",
"metadata": {},
"source": [
"Give the possible causes of passes in the data; \ n",
"-Rish - lack of official data on seniority and income \ n",
"\ n",
"Explain why filling in passes with a median value is the best solution for quantitative variables. \ n",
~-In such a way, the that was absent from the initial values ​​will least of all affect the reliability of the final result (less anomaly). \ N",
"\ n"
]
}
{
"cell_type": "code",
"execution_count": 65,
"id": "aa5e638e",
"metadata": {},
"outputs": [
{
"name": "stdout",
"output_type": "stream",
"text": [
"median_income: 145017.93753253992 \ n",
"0 \ n"
]
}
]
"source": [
"median_income = df ['total_income']. Median (skipna = true) \ n",
"print ('median_income:'+str (median_income)) \ n",
"df ['total_income'] = df ['total_income']. Fillna (median_income) \ n",
"print (df [df ['total_income']. Isna ()]))"
]
}
{
"cell_type": "code",
"execution_count": 66,
"id": "d0d944ad",
"metadata": {},
"outputs": [
{
"name": "stdout",
"output_type": "stream",
"text": [
"0 \ n",
"<class 'pandas.core.frame.dataframe'> \ n",
"Rangeindex: 21525 entries, 0 to 21524 \ n",
"Data Columns (Total 12 Columns): \ n",
"children 21525 non-null int64 \ n",
"days_employed 21525 non-null float64 \ n",
"job_years 21525 non-null int64 \ n",
"education 21525 Non-null Object \ n",
"education_id 21525 non-null int64 \ n",
"Family_status 21525 Non-Null Object \ N",
"family_status_id 21525 non-null int64 \ n",
"Gender 21525 Non-Null Object \ N",
"income_type 21525 non-null object \ n",
"Debt 21525 Non-null int64 \ n",
"total_income 21525 non-null float64 \ n",
"Purpose 21525 Non-Null Object \ N",
"dtypes: float64 (2), int64 (5), object (5) \ n",
"memory usage: 2.0+ mb \ n"
]
}
]
"source": [
"Median_Days_employed = DF ['Days_employed']. Median (skipna = true) \ n",
"df ['days_employed'] = df ['days_employed']. Fillna (Median_Days_employed) \ n",
"print (df [df ['days_employed']. Isna ()])) \ n",
"\ n",
~#We will get general information about the Dataframe \ N",
"df.info ()"
]
}
{
"cell_type": "markdown",
"id": "b64dc279",
"metadata": {},
"source": [
"### Step 2.2 Checking data on anomaly and correction."
]
}
{
"cell_type": "raw",
"id": "8b1b1963",
"metadata": {},
"source": [
"OK, thanks for the understanding. I will try to prevent such moments in subsequent work."
]
}
{
"cell_type": "code",
"execution_count": null,
"id": "ca0182b1",
"metadata": {},
"outputs": [],
"source": []
}
{
"cell_type": "raw",
"id": "a4fc4f54",
"metadata": {},
"source": [
"Data in the 'Children' column are presented with several, in my opinion, distortions: the number of children is 20, 76 families, I think this is unrealistic data."
]
}
{
"cell_type": "code",
"execution_count": 67,
"id": "4a924b62",
"metadata": {},
"outputs": [
{
"name": "stdout",
"output_type": "stream",
"text": [
"[1 0 3 2 -1 4 20 5] \ n",
"0 14149 \ n",
"1 4818 \ n",
"2 2055 \ n",
"3 330 \ n",
"20 76 \ n",
"-1 47 \ n",
"4 41 \ n",
"5 9 \ n",
"Name: children, dtype: int64 \ n"
]
}
]
"source": [
"print (df ['children']. Unique ()) \ n",
"print (df ['children']. Value_counts ())"
]
}
{
"cell_type": "markdown",
"id": "3DA82ABE",
"metadata": {},
"source": [
"There are also deviations with negative values ​​of the indicator, I think this is also unrealistic. Correct this filling the values ​​with a median value calculated from the data, without deviations."
]
}
{
"cell_type": "code",
"execution_count": 68,
"id": "c22c2b3d",
"metadata": {},
"outputs": [
{
"name": "stdout",
"output_type": "stream",
"text": [
"children <0: 47 \ n",
"median_children: 1 \ n",
"children <0: 0 \ n",
"children> = 20: 76 \ n",
"children> = 20: 0 \ n"
]
}
]
"source": [
~#'children' \ n",
"print ('children <0:'+str (df [df ['children'] <0])))#deviations with negative values ​​of the indicator, I think this is also unrealistic \ n",
"\ n",
"median_children = int (df [df ['children']> 0] ['children']. Median (skipna = true)) \ n",
"print ('median_children:'+str (median_children)) #median value calculated from data, without deviations. \ n",
"df.loc [df ['children'] <0, ['children']] = median_children \ n",
"print ('children <0:'+str (Len (df [df ['children'] <0])) \ n",
"\ n",
"print ('children> = 20:'+str (df [df ['children']> = 20])))# The number of children is 20, 76 families, I think this is unrealistic data \ n",
"df.loc [df ['children'] == 20, ['children']] = median_children#median value calculated from data, without deviations. \ n",
"print ('children> = 20:'+str (Len (df [df ['children']> = 20])))"
]
}
{
"cell_type": "code",
"execution_count": null,
"id": "257F5F8B",
"metadata": {},
"outputs": [],
"source": []
}
{
"cell_type": "code",
"execution_count": 69,
"id": "75e78932",
"metadata": {},
"outputs": [
{
"name": "stdout",
"output_type": "stream",
"text": [
"days_employed <0: 18080 \ n",
"21505 338904 \ n",
"21508 386497 \ n",
"21509 362161 \ n",
"21518 373995 \ n",
"21521 343937 \ n",
"Name: days_employed, dtype: int64 \ n",
"Series ([], name: days_employed, dtype: int64) \ n",
"21520 4529 \ n",
"21521 343937 \ n",
"21522 2113 \ n",
"21523 3112 \ n",
"21524 1984 \ n",
"Name: days_employed, dtype: int64 \ n"
]
}
]
"source": [
~#'Days_employed' \ n",
~# material type of data in a column for integrated \ n",
"df ['days_employed'] = df ['days_employed']. Astype (int) \ n",
"\ n",
~#replace the negative values ​​\ n",
"print ('days_employed <0:'+str (Len (df ['days_employed'] <0])) \ n",
"\ n",
~# positive values ​​= 365213 This is a mistake \ n",
"df.loc [df ['days_employed'] == 365213, ['days_employed']] = 0 \ n",
"print (df ['days_employed']> 0] ['days_employed']. Tail (5)) \ n",
"\ n",
"df.loc [df ['days_employed'] <0, ['days_employed']] = df.loc [df ['days_employed'] <0, ['days_employed']] * (-1) \ n",
"print (df ['days_employed'] <0] ['days_employed']. Tail (5)) \ n",
"\ n",
"print (df ['days_employed']. Tail (5))"
]
}
{
"cell_type": "code",
"execution_count": 70,
"id": "e0ac6964",
"metadata": {},
"outputs": [
{
"name": "stdout",
"output_type": "stream",
"text": [
"job_years <0: 0 \ n",
"job_years> 100: 0 \ n"
]
}
]
"source": [
"print ('job_years <0:'+str (len (df [df ['job_years'] <0])) \ n",
"print ('job_years> 100:'+str (len (df [df ['job_years'] 100])))"
]
}
{
"cell_type": "code",
"execution_count": 71,
"id": "a428c7af",
"metadata": {},
"outputs": [
{
"name": "stdout",
"output_type": "stream",
"text": [
"average 15233 \ n",
"higher 5260 \ n",
"Unfinished higher 744 \ n",
"initial 282 \ n",
"scientific degree 6 \ n",
"Name: education, dtype: int64 \ n"
]
}
]
"source": [
~#translate to the same type of line with formation \ n",
~#We see that the data is more complete than education_id \ n",
"df.loc [df ['education'] == 'middle', 'education'] = 'average' \ n",
"df.loc [df ['education'] == 'middle', 'education'] = 'average' \ n",
"df.loc [df ['education'] == 'higher', 'education'] = 'higher' \ n",
"df.loc [df ['education'] == 'higher', 'education'] = 'higher' \ n",
"df.loc [df ['education'] == 'Unfinished Higher', 'Education'] = 'Unfinished Higher' \ N",
"df.loc [df ['education'] == 'Unfinished Higher', 'Education'] = 'Unfinished Higher' \ N",
"df.loc [df ['education'] == 'initial', 'education'] = 'initial' \ n",
"df.loc [df ['education'] == 'initial', 'education'] = 'initial' \ n",
"df.loc [df ['education'] == 'Scientific degree', 'education'] = 'Scientific degree' \ n",
"df.loc [df ['education'] == 'Scientific degree', 'education'] = 'Scientific degree' \ n",
"print (df ['education']. Value_counts (). Head (30)) \ n",
"\ n",
~# After removing duplicates, do the following: \ n",
~# - Explain how you chose a method for searching and removing duplicates in data; \ n",
~# - Visually \ n",
~# - Give the possible reasons for the appearance of duplicates. \ n",
~# - operator error"
]
}
{
"cell_type": "markdown",
"id": "03614cf6",
"metadata": {},
"source": [
"Thanks for the recommendation, I will use in the future."
]
}
{
"cell_type": "code",
"execution_count": 72,
"id": "21a69183",
"metadata": {},
"outputs": [
{
"name": "stdout",
"output_type": "stream",
"text": [
"education_id <0: 0 \ n",
"1 15233 \ n",
"0 5260 \ n",
"2 744 \ n",
"Name: education_id, dtype: int64 \ n"
]
}
]
"source": [
"print ('education_id <0:'+str (df [df ['education_id'] <0]))) \ n",
"print (df ['education_id']. Value_counts (). Head (3)) #double education"
]
}
{
"cell_type": "code",
"execution_count": 73,
"id": "c117a2db",
"metadata": {},
"outputs": [
{
"name": "stdout",
"output_type": "stream",
"text": [
"married / married 12380 \ n",
"civil marriage 4177 \ n",
"Not married / not married 2813 \ n",
"in divorce 1195 \ n",
"widow / widow 960 \ n",
"Name: family_status, dtype: int64 \ n"
]
}
]
"source": [
"print (df ['family_status']. Value_counts ())"
]
}
{
"cell_type": "code",
"execution_count": 74,
"id": "6F1b8463",
"metadata": {},
"outputs": [
{
"name": "stdout",
"output_type": "stream",
"text": [
"0 12380 \ n",
"1 4177 \ n",
"4 2813 \ n",
"3 1195 \ n",
"2 960 \ n",
"Name: family_status_id, dtype: int64 \ n"
]
}
]
"source": [
"print (df ['family_status_id']. Value_counts (). Head ()) #double family_status"
]
}
{
"cell_type": "code",
"execution_count": 75,
"id": "8DB8C67F",
"metadata": {},
"outputs": [
{
"name": "stdout",
"output_type": "stream",
"text": [
"F 14236 \ n",
"M 7288 \ n",
"Xna 1 \ n",
"Name: gender, dtype: int64 \ n",
"F 14236 \ n",
"M 7288 \ n",
"Name: gender, dtype: int64 \ n"
]
}
]
"source": [
"print (df ['gender']. Value_counts ()) \ n",
"df.drop (df [df.gender == 'xna']. index, inplace = true) \ n",
"print (df ['gender']. Value_counts ())"
]
}
{
"cell_type": "code",
"execution_count": 76,
"id": "38ea033e",
"metadata": {
"scrolled": true
}
"outputs": [
{
"name": "stdout",
"output_type": "stream",
"text": [
"employee 11119 \ n",
"companion 5084 \ n",
"pensioner 3856 \ n",
"civil servant 1459 \ n",
"entrepreneur 2 \ n",
"unemployed 2 \ n",
"student 1 \ n",
"in maternity 1 \ n",
"Name: income_type, dtype: int64 \ n"
]
}
]
"source": [
"print (df ['income_type']. value_counts ()) \ n",
"\ n",
"\ n",
~# After removing duplicates, do the following: \ n",
~# - Explain how you chose a method for searching and removing duplicates in data; \ n",
~# - Visually \ n",
~# - Give the possible reasons for the appearance of duplicates. \ n",
~# - operator error \ n"
]
}
{
"cell_type": "markdown",
"id": "fb5b310e",
"metadata": {},
"source": [
"Under the influence of undocked considerations, he made an incorrect decision. No need to delete, fixed."
]
}
{
"cell_type": "code",
"execution_count": 77,
"id": "4ae991a7",
"metadata": {},
"outputs": [
{
"name": "stdout",
"output_type": "stream",
"text": [
"debt <= 0: 19783 \ n",
"debt> 100: 0 \ n",
"0 0 \ n",
"1 0 \ n",
"2 0 \ n",
"3 0 \ n",
"4 0 \ n",
"Name: debt, dtype: int64 \ n",
"14 1 \ n",
"32 1 \ n",
"38 1 \ n",
"55 1 \ n",
"75 1 \ n",
"Name: debt, dtype: int64 \ n"
]
}
]
"source": [
"print ('debt <= 0:'+str (Len (df [df ['debt'] <= 0]))) \ n",
"print ('Debt> 100:'+str (df [df ['debt']> 1000000]))) \ n",
"print (df ['debt']. Head ()) \ n",
"print (df [df ['debt']> 0] ['debt']. Head ())"
]
}
{
"cell_type": "code",
"execution_count": 78,
"id": "482F1BAD",
"metadata": {},
"outputs": [
{
"name": "stdout",
"output_type": "stream",
"text": [
"total_income <0: 0 \ n",
"total_income> 1000000: 25 \ n"
]
}
]
"source": [
"print ('Total_income <0:'+str (Len (df [df ['total_income'] <0])) \ n",
"print ('Total_income> 1000000:'+Str (Len (DF [DF ['Total_income']> 1000000]))) \ n",
"df ['total_income'] = df ['total_income']. Astype (int)"
]
}
{
"cell_type": "code",
"execution_count": 79,
"id": "488992bb",
"metadata": {},
"outputs": [
{
"name": "stdout",
"output_type": "stream",
"text": [
"there are lines-duplicates: 71 \ n",
"there are lines-duplicates: 0 \ n"
]
}
]
"source": [
~#If the data contains lines-duplicates, remove them \ n",
"print ('there are lines-duplicates:'+str (Len (df [df.duplicated ()]))) \ n",
"df.drop (df [df.duplicated ()]. ​​Index, inplace = true) \ n",
"print ('there are lines-duplicates:'+str (Len (df [df.duplicated ()])))"
]
}
{
"cell_type": "code",
"execution_count": 80,
"id": "c669cf16",
"metadata": {
"scrolled": true
}
"outputs": [
{
"name": "stdout",
"output_type": "stream",
"text": [
"<class 'pandas.core.frame.dataframe'> \ n",
"Int64index: 21453 entries, 0 to 21524 \ n",
"Data Columns (Total 12 Columns): \ n",
"children 21453 non-null int64 \ n",
"days_employed 21453 non-null int64 \ n",
"job_years 21453 non-null int64 \ n",
"education 21453 Non-null Object \ n",
"education_id 21453 non-null int64 \ n",
"Family_status 21453 Non-Null Object \ N",
"family_status_id 21453 non-null int64 \ n",
"Gender 21453 Non-Null Object \ N",
"income_type 21453 non-null object \ n",
"Debt 21453 non-null int64 \ n",
"total_income 21453 non-null int64 \ n",
"Purpose 21453 Non-Null Object \ N",
"dtypes: int64 (7), object (5) \ n",
"memory usage: 2.1+ mb \ n"
]
}
]
"source": [
"df.info ()"
]
}
{
"cell_type": "markdown",
"id": "8a51ce50",
"metadata": {},
"source": [
"### Step 2.5. Formation of additional Dataprames of dictionaries, decomposition of the original Datuphamma."
]
}
{
"cell_type": "code",
"execution_count": 81,
"id": "0DAFFBAC",
"metadata": {},
"outputs": [
{
"name": "stdout",
"output_type": "stream",
"text": [
"<class 'pandas.core.frame.dataframe'> \ n",
"Int64index: 21453 entries, 0 to 21524 \ n",
"Data Columns (Total 12 Columns): \ n",
"children 21453 non-null int64 \ n",
"days_employed 21453 non-null int64 \ n",
"job_years 21453 non-null int64 \ n",
"education 21453 Non-null Object \ n",
"education_id 21453 non-null int64 \ n",
"Family_status 21453 Non-Null Object \ N",
"family_status_id 21453 non-null int64 \ n",
"Gender 21453 Non-Null Object \ N",
"income_type 21453 non-null object \ n",
"Debt 21453 non-null int64 \ n",
"total_income 21453 non-null int64 \ n",
"Purpose 21453 Non-Null Object \ N",
"dtypes: int64 (7), object (5) \ n",
"memory usage: 2.1+ mb \ n",
"None \ n",
"<class 'pandas.core.frame.dataframe'> \ n",
"Int64index: 21453 entries, 0 to 21524 \ n",
"Data Columns (Total 12 Columns): \ n",
"children 21453 non-null int64 \ n",
"days_employed 21453 non-null int64 \ n",
"job_years 21453 non-null int64 \ n",
"education 21453 Non-null Object \ n",
"education_id 21453 non-null int64 \ n",
"Family_status 21453 Non-Null Object \ N",
"family_status_id 21453 non-null int64 \ n",
"Gender 21453 Non-Null Object \ N",
"income_type 21453 non-null object \ n",
"Debt 21453 non-null int64 \ n",
"total_income 21453 non-null int64 \ n",
"Purpose 21453 Non-Null Object \ N",
"dtypes: int64 (7), object (5) \ n",
"memory usage: 2.1+ mb \ n",
"None \ n"
]
}
]
"source": [
~# 5. Create two new databrames with columns: \ n",
~# - `education_id` and` education` - in the first; \ n",
~# - `family_status_id` and` family_status` - in the second. \ n",
"\ n",
"df_ed = df.loc [:, ['education_id', 'education']]. Copy () \ n",
"df_fa = df.loc [:, ['family_status_id', 'family_status']]. Copy () \ n",
"\ n",
~# Delete the columns `education` and` family_status`, \ n",
~# Leaving only their identifiers: `education_id` and` family_status_id`. \ n",
"print (df.info ()) \ n",
"df.drop_duplicates (inplace = true) \ n",
"print (df.info ())"
]
}
{
"cell_type": "code",
"execution_count": 82,
"id": "f00bf4bf",
"metadata": {},
"outputs": [],
"source": [
"df_ed = df_ed.drop_duplicates (). Reset_index (drop = True) \ n",
"df_fa = df_fa.drop_duplicates (). Reset_index (drop = True) \ n"
]
}
{
"cell_type": "code",
"execution_count": 83,
"id": "f075230d",
"metadata": {},
"outputs": [
{
"data": {
"text/html": [
"<div> \ n",
"<style scope> \ n",
".Dataframe tbody tr through: of
"vertical-align: micidle; \ n",
~} \ n",
"\ n",
".Dataframe tbody tr th {\ n",
"vertical-align: top; \ n",
~} \ n",
"\ n",
".Dataframe thead th {\ n",
"text-align: right; \ n",
~} \ n",
"</style> \ n",
"<table border = \ "1 \ "class = \ "dataframe \"> \ n",
"<pead> \ n",
"<tr style = \ "text-align: right; \"> \ n",
"<T> </TH> \ n",
"<T> education_id </ple> \ n",
"<T> education </TH> \ n",
"</ tr> \ n",
"</pead> \ n",
"<tbody> \ n",
"<tr> \ n",
"<td> 0 </td> \ n",
"<td> 0 </td> \ n",
"<td> higher </td> \ n",
"</ tr> \ n",
"<tr> \ n",
"<td> 1 </td> \ n",
"<td> 1 </td> \ n",
"<td> average </td> \ n",
"</ tr> \ n",
"<tr> \ n",
"<td> 2 </td> \ n",
"<td> 2 </td> \ n",
"<td> non -contributed higher </td> \ n",
"</ tr> \ n",
"<tr> \ n",
"<td> 3 </td> \ n",
"<td> 3 </td> \ n",
"<td> initial </td> \ n",
"</ tr> \ n",
"<tr> \ n",
"<td> 4 </td> \ n",
"<td> 4 </td> \ n",
"<td> Scientific degree </td> \ n",
"</ tr> \ n",
"</tbody> \ n",
"</Table> \ n",
"</ DIV>"
]
"text/plin": [
"education_id education \ n",
"0 0 Higher \ n",
"1 1 average \ n",
"2 2 unfinished higher \ n",
"3 3 initial \ n",
"4 4 Scientific degree"
]
}
"execution_count": 83,
"metadata": {},
"output_type": "execute_result"
}
]
"source": [
"df_ed"
]
}
{
"cell_type": "code",
"execution_count": 84,
"id": "49cac95f",
"metadata": {},
"outputs": [
{
"data": {
"text/html": [
"<div> \ n",
"<style scope> \ n",
".Dataframe tbody tr through: of
"vertical-align: micidle; \ n",
~} \ n",
"\ n",
".Dataframe tbody tr th {\ n",
"vertical-align: top; \ n",
~} \ n",
"\ n",
".Dataframe thead th {\ n",
"text-align: right; \ n",
~} \ n",
"</style> \ n",
"<table border = \ "1 \ "class = \ "dataframe \"> \ n",
"<pead> \ n",
"<tr style = \ "text-align: right; \"> \ n",
"<T> </TH> \ n",
"<TH> FAMILY_STATUS_ID </TH> \ N",
"<f> family_status </ple> \ n",
"</ tr> \ n",
"</pead> \ n",
"<tbody> \ n",
"<tr> \ n",
"<td> 0 </td> \ n",
"<td> 0 </td> \ n",
"<td> married / married </td> \ n",
"</ tr> \ n",
"<tr> \ n",
"<td> 1 </td> \ n",
"<td> 1 </td> \ n",
"<td> civil marriage </td> \ n",
"</ tr> \ n",
"<tr> \ n",
"<td> 2 </td> \ n",
"<td> 2 </td> \ n",
"<td> widow / widow </td> \ n",
"</ tr> \ n",
"<tr> \ n",
"<td> 3 </td> \ n",
"<td> 3 </td> \ n",
"<td> in divorce </td> \ n",
"</ tr> \ n",
"<tr> \ n",
"<td> 4 </td> \ n",
"<td> 4 </td> \ n",
"<td> not married / not married </td> \ n",
"</ tr> \ n",
"</tbody> \ n",
"</Table> \ n",
"</ DIV>"
]
"text/plin": [
"family_status_id family_status \ n",
"0 0 married / married \ n",
"1 1 civil marriage \ n",
"2 2 widow / widow \ n",
"3 3 in divorce \ n",
"4 4 is not married / not married"
]
}
"execution_count": 84,
"metadata": {},
"output_type": "execute_result"
}
]
"source": [
"df_fa"
]
}
{
"cell_type": "code",
"execution_count": null,
"id": "d8168942",
"metadata": {},
"outputs": [],
"source": []
}
{
"cell_type": "markdown",
"id": "ac138ce8",
"metadata": {},
"source": [
"### Step 2.6. Revenue categorization."
]
}
{
"cell_type": "code",
"execution_count": 85,
"id": "52a8165d",
"metadata": {},
"outputs": [
{
"name": "stdout",
"output_type": "stream",
"text": [
"C \ n"
]
}
{
"data": {
"text/plin": [
"0 b \ n",
"1 c \ n",
"2 C \ n",
"3 b \ n",
"4 C \ n",
"5 b \ n",
"6 b \ n",
"7 C \ n",
"8 C \ n",
"9 C \ n",
"Name: total_income_category, dtype: object"
]
}
"execution_count": 85,
"metadata": {},
"output_type": "execute_result"
}
]
"source": [
~# 6. Based on the ranges indicated below, create a column `total_income_category` with categories: \ n",
~# - 0–30000 - `'e'`; \ n",
~# - 30001–50000 - `'d'`; \ n",
~# - 50001–200000 - `'c'`; \ n",
~# - 20001–1000000 - `'b'`; \ n",
~# - 1000001 and above - `'A'''A. \ N",
"\ n",
"def cat_income (total_income): \ n",
"if total_income <30000: \ n",
"return 'e' \ n",
"elif total_income <50000: \ n",
"return 'd' \ n",
"elif total_income <200,000: \ n",
"return 'c' \ n",
"elif total_income <1000000: \ n",
"return 'b' \ n",
"elif total_income> 1000000: \ n",
"return 'a' \ n",
"else: return 'x' \ n",
"\ n",
"print (cat_income (55000)) \ n",
"df ['total_income_category'] = df ['total_income']. Apply (cat_income) \ n",
"df ['total_income_category']. Head (10)"
]
}
{
"cell_type": "code",
"execution_count": null,
"id": "78DBB0EA",
"metadata": {},
"outputs": [],
"source": []
}
{
"cell_type": "markdown",
"id": "b128dc96",
"metadata": {},
"source": [
"### Step 2.7. County categorization of loan."
]
}
{
"cell_type": "code",
"execution_count": 86,
"id": "b3e5dd7c",
"metadata": {},
"outputs": [
{
"name": "stdout",
"output_type": "stream",
"text": [
"operations with a car \ n"
]
}
{
"data": {
"text/plin": [
"real estate operations 10810 \ n",
"operations with a car 4306 \ n",
"obtaining education 4013 \ n",
"holding a wedding 2324 \ n",
"Name: purpose_category, dtype: int64"
]
}
"execution_count": 86,
"metadata": {},
"output_type": "execute_result"
}
]
"source": [
~# 7. Create a function that, on the basis of data from the column `Purpose` will form a new column \ n",
~#`purpose_category`, which will include the following categories: \ n",
~# - `` Operations with car, \ n",
~# - `'' real estate operations, \ n",
~# - `'' holding a wedding, \ n",
~# - `'receipt of education'`. \ n",
"\ n",
~#print (df ['purpose']. Value_counts ()) \ n",
~#options with key words \ n",
~# weddings \ n",
~# immovable gyne \ n",
~# car \ n",
~# educated \ n",
"\ n",
"def cat_purp (purpose): \ n",
"if 'car' in purpose: \ n",
"return 'operations with a car' \ n",
"elif 'immovable' in purpose: \ n",
"return 'transactions with real estate' \ n",
"elif 'weddings' in purpose: \ n",
"return 'holding a wedding' \ n",
"elif 'formed' in purpose: \ n",
"return 'obtaining education' \ n",
"elif 'Gilles' in purpose: \ n",
"return 'transactions with real estate' \ n",
"else: return 'x' \ n",
"\ n",
"print (cat_purp ('motorist')) \ n",
"df ['purpose_category'] = df ['purpose']. Apply (cat_purp) \ n",
"df ['purpose_category']. Value_counts ()"
]
}
{
"cell_type": "markdown",
"id": "2127E7CF",
"metadata": {},
"source": [
"Conclusion by the step of the data of data: During the analysis of the data were \ n",
"Disadvantages have been identified, in particular duplicates, incorrect data, \ n",
"All of them were adjusted to obtain more suitable material for further processing. \ n",
"~
]
}
{
"cell_type": "markdown",
"id": "e9373861",
"metadata": {},
"source": [
"## answers to questions."
]
}
{
"cell_type": "code",
"execution_count": 87,
"id": "729274F7",
"metadata": {},
"outputs": [
{
"data": {
"text/html": [
"<div> \ n",
"<style scope> \ n",
".Dataframe tbody tr through: of
"vertical-align: micidle; \ n",
~} \ n",
"\ n",
".Dataframe tbody tr th {\ n",
"vertical-align: top; \ n",
~} \ n",
"\ n",
".Dataframe thead tr th {\ n",
"text-align: left; \ n",
~} \ n",
"\ n",
".Dataframe thead tr: Last-OF-Type th {\ n",
"text-align: right; \ n",
~} \ n",
"</style> \ n",
"<table border = \ "1 \ "class = \ "dataframe \"> \ n",
"<pead> \ n",
"<tr> \ n",
"<T> </TH> \ n",
"<TH> COUNT </TH> \ N",
"<TH> SUM </TH> \ N",
"<TH> mean </TH> \ n",
"</ tr> \ n",
"<tr> \ n",
"<T> </TH> \ n",
"<t> debt </th> \ n",
"<t> debt </th> \ n",
"<t> debt </th> \ n",
"</ tr> \ n",
"<tr> \ n",
"<f> purpose_category </ple> \ n",
"<T> </TH> \ n",
"<T> </TH> \ n",
"<T> </TH> \ n",
"</ tr> \ n",
"</pead> \ n",
"<tbody> \ n",
"<tr> \ n",
"<td> operations with a car </td> \ n",
"<td> 4306 </td> \ n",
"<td> 403 </td> \ n",
"<td> 0.093590 </td> \ n",
"</ tr> \ n",
"<tr> \ n",
"<td> real estate operations </td> \ n",
"<td> 10810 </td> \ n",
"<td> 782 </td> \ n",
"<td> 0.072340 </td> \ n",
"</ tr> \ n",
"<tr> \ n",
"<td> receipt of education </td> \ n",
"<td> 4013 </td> \ n",
"<td> 370 </td> \ n",
"<td> 0.092200 </td> \ n",
"</ tr> \ n",
"<tr> \ n",
"<td> Wedding </td> \ n",
"<td> 2324 </td> \ n",
"<td> 186 </td> \ n",
"<td> 0.080034 </td> \ n",
"</ tr> \ n",
"</tbody> \ n",
"</Table> \ n",
"</ DIV>"
]
"text/plin": [
"Count Sum mean \ n",
"debt debt debt \ n",
"purpose_category \ n",
"Operations with a car 4306 403 0.093590 \ n",
"Real estate operations 10810 782 0.072340 \ n",
"obtaining education 4013 370 0.092200 \ n",
"holding a wedding 2324 186 0.080034"
]
}
"execution_count": 87,
"metadata": {},
"output_type": "execute_result"
}
]
"source": [
"df.pivot_table (index = ['purpose_category'], values ​​= 'debt', aggfunk = ['count', 'sum', 'mean'])")")")
]
}
{
"cell_type": "markdown",
"id": "bd969666",
"metadata": {},
"source": [
"\ "Problem \ "customers is with the purpose of the loan for operations with the car and obtaining education."
]
}
{
"cell_type": "code",
"execution_count": null,
"id": "65478936",
"metadata": {},
"outputs": [],
"source": []
}
{
"cell_type": "code",
"execution_count": 88,
"id": "ca13aca0",
"metadata": {},
"outputs": [
{
"data": {
"text/html": [
"<div> \ n",
"<style scope> \ n",
".Dataframe tbody tr through: of
"vertical-align: micidle; \ n",
~} \ n",
"\ n",
".Dataframe tbody tr th {\ n",
"vertical-align: top; \ n",
~} \ n",
"\ n",
".Dataframe thead tr th {\ n",
"text-align: left; \ n",
~} \ n",
"\ n",
".Dataframe thead tr: Last-OF-Type th {\ n",
"text-align: right; \ n",
~} \ n",
"</style> \ n",
"<table border = \ "1 \ "class = \ "dataframe \"> \ n",
"<pead> \ n",
"<tr> \ n",
"<T> </TH> \ n",
"<TH> COUNT </TH> \ N",
"<TH> SUM </TH> \ N",
"<TH> mean </TH> \ n",
"</ tr> \ n",
"<tr> \ n",
"<T> </TH> \ n",
"<t> debt </th> \ n",
"<t> debt </th> \ n",
"<t> debt </th> \ n",
"</ tr> \ n",
"<tr> \ n",
"<TH> FAMILY_STATUS_ID </TH> \ N",
"<T> </TH> \ n",
"<T> </TH> \ n",
"<T> </TH> \ n",
"</ tr> \ n",
"</pead> \ n",
"<tbody> \ n",
"<tr> \ n",
"<td> 0 </td> \ n",
"<td> 12339 </td> \ n",
"<td> 931 </td> \ n",
"<td> 0.075452 </td> \ n",
"</ tr> \ n",
"<tr> \ n",
"<td> 1 </td> \ n",
"<td> 4150 </td> \ n",
"<td> 388 </td> \ n",
"<td> 0.093494 </td> \ n",
"</ tr> \ n",
"<tr> \ n",
"<td> 2 </td> \ n",
"<td> 959 </td> \ n",
"<td> 63 </td> \ n",
"<td> 0.065693 </td> \ n",
"</ tr> \ n",
"<tr> \ n",
"<td> 3 </td> \ n",
"<td> 1195 </td> \ n",
"<td> 85 </td> \ n",
"<td> 0.071130 </td> \ n",
"</ tr> \ n",
"<tr> \ n",
"<td> 4 </td> \ n",
"<td> 2810 </td> \ n",
"<td> 274 </td> \ n",
"<td> 0.097509 </td> \ n",
"</ tr> \ n",
"</tbody> \ n",
"</Table> \ n",
"</ DIV>"
]
"text/plin": [
"Count Sum mean \ n",
"debt debt debt \ n",
"family_status_id \ n",
"0 12339 931 0.075452 \ n",
"1 4150 388 0.093494 \ n",
"2 959 63 0.065693 \ n",
"3 1195 85 0.071130 \ n",
"4 2810 274 ​​0.097509"
]
}
"execution_count": 88,
"metadata": {},
"output_type": "execute_result"
}
]
"source": [
"df.pivot_table (index = ['family_status_id'], values ​​= 'debt', aggfunc = ['count', 'sum', 'mean']")")")
]
}
{
"cell_type": "markdown",
"id": "cc17803b",
"metadata": {},
"source": [
"\ "Problem \ "customers are with 1 and 4 types of families"
]
}
{
"cell_type": "markdown",
"id": "237483F6",
"metadata": {},
"source": [
"married / married 0 \ n",
"civil marriage 1 \ n",
"Not married / not married 4 \ n",
"in divorce 3 \ n",
"widow / widow 2"
]
}
{
"cell_type": "code",
"execution_count": 89,
"id": "b530e6e",
"metadata": {},
"outputs": [
{
"data": {
"text/html": [
"<div> \ n",
"<style scope> \ n",
".Dataframe tbody tr through: of
"vertical-align: micidle; \ n",
~} \ n",
"\ n",
".Dataframe tbody tr th {\ n",
"vertical-align: top; \ n",
~} \ n",
"\ n",
".Dataframe thead tr th {\ n",
"text-align: left; \ n",
~} \ n",
"\ n",
".Dataframe thead tr: Last-OF-Type th {\ n",
"text-align: right; \ n",
~} \ n",
"</style> \ n",
"<table border = \ "1 \ "class = \ "dataframe \"> \ n",
"<pead> \ n",
"<tr> \ n",
"<T> </TH> \ n",
"<TH> COUNT </TH> \ N",
"<TH> SUM </TH> \ N",
"<TH> mean </TH> \ n",
"</ tr> \ n",
"<tr> \ n",
"<T> </TH> \ n",
"<t> debt </th> \ n",
"<t> debt </th> \ n",
"<t> debt </th> \ n",
"</ tr> \ n",
"<tr> \ n",
"<f> total_income_category </ple> \ n",
"<T> </TH> \ n",
"<T> </TH> \ n",
"<T> </TH> \ n",
"</ tr> \ n",
"</pead> \ n",
"<tbody> \ n",
"<tr> \ n",
"<td> a </td> \ n",
"<td> 25 </td> \ n",
"<td> 2 </td> \ n",
"<td> 0.080000 </td> \ n",
"</ tr> \ n",
"<tr> \ n",
"<td> b </td> \ n",
"<td> 5040 </td> \ n",
"<td> 356 </td> \ n",
"<td> 0.070635 </td> \ n",
"</ tr> \ n",
"<tr> \ n",
"<td> c </td> \ n",
"<td> 16016 </td> \ n",
"<td> 1360 </td> \ n",
"<td> 0.084915 </td> \ n",
"</ tr> \ n",
"<tr> \ n",
"<td> d </td> \ n",
"<td> 350 </td> \ n",
"<td> 21 </td> \ n",
"<td> 0.060000 </td> \ n",
"</ tr> \ n",
"<tr> \ n",
"<td> e </td> \ n",
"<td> 22 </td> \ n",
"<td> 2 </td> \ n",
"<td> 0.090909 </td> \ n",
"</ tr> \ n",
"</tbody> \ n",
"</Table> \ n",
"</ DIV>"
]
"text/plin": [
"Count Sum mean \ n",
"debt debt debt \ n",
"total_income_category \ n",
"A 25 2 0.080000 \ n",
"B 5040 356 0.070635 \ n",
"C 16016 1360 0.084915 \ n",
"D 350 21 0.060000 \ n",
"E 22 2 0.090909"
]
}
"execution_count": 89,
"metadata": {},
"output_type": "execute_result"
}
]
"source": [
"df.pivot_table (index = ['total_income_category'], values ​​= 'debt', aggfunc = ['count', 'sum', 'mean']")")")")
]
}
{
"cell_type": "markdown",
"id": "846409a8",
"metadata": {},
"source": [
"\ "Problematic \ "customers are with E and with the category of income"
]
}
{
"cell_type": "code",
"execution_count": null,
"id": "acff4633",
"metadata": {},
"outputs": [],
"source": []
}
{
"cell_type": "code",
"execution_count": 90,
"id": "cd1cc5a",
"metadata": {},
"outputs": [
{
"data": {
"text/html": [
"<div> \ n",
"<style scope> \ n",
".Dataframe tbody tr through: of
"vertical-align: micidle; \ n",
~} \ n",
"\ n",
".Dataframe tbody tr th {\ n",
"vertical-align: top; \ n",
~} \ n",
"\ n",
".Dataframe thead tr th {\ n",
"text-align: left; \ n",
~} \ n",
"\ n",
".Dataframe thead tr: Last-OF-Type th {\ n",
"text-align: right; \ n",
~} \ n",
"</style> \ n",
"<table border = \ "1 \ "class = \ "dataframe \"> \ n",
"<pead> \ n",
"<tr> \ n",
"<T> </TH> \ n",
"<TH> COUNT </TH> \ N",
"<TH> SUM </TH> \ N",
"<TH> mean </TH> \ n",
"</ tr> \ n",
"<tr> \ n",
"<T> </TH> \ n",
"<t> debt </th> \ n",
"<t> debt </th> \ n",
"<t> debt </th> \ n",
"</ tr> \ n",
"<tr> \ n",
"<TH> children </TH> \ n",
"<T> </TH> \ n",
"<T> </TH> \ n",
"<T> </TH> \ n",
"</ tr> \ n",
"</pead> \ n",
"<tbody> \ n",
"<tr> \ n",
"<td> 0 </td> \ n",
"<td> 14090 </td> \ n",
"<td> 1063 </td> \ n",
"<td> 0.075444 </td> \ n",
"</ tr> \ n",
"<tr> \ n",
"<td> 1 </td> \ n",
"<td> 4931 </td> \ n",
"<td> 453 </td> \ n",
"<td> 0.091868 </td> \ n",
"</ tr> \ n",
"<tr> \ n",
"<td> 2 </td> \ n",
"<td> 2052 </td> \ n",
"<td> 194 </td> \ n",
"<td> 0.094542 </td> \ n",
"</ tr> \ n",
"<tr> \ n",
"<td> 3 </td> \ n",
"<td> 330 </td> \ n",
"<td> 27 </td> \ n",
"<td> 0.081818 </td> \ n",
"</ tr> \ n",
"<tr> \ n",
"<td> 4 </td> \ n",
"<td> 41 </td> \ n",
"<td> 4 </td> \ n",
"<td> 0.097561 </td> \ n",
"</ tr> \ n",
"<tr> \ n",
"<td> 5 </td> \ n",
"<td> 9 </td> \ n",
"<td> 0 </td> \ n",
"<td> 0.000000 </td> \ n",
"</ tr> \ n",
"</tbody> \ n",
"</Table> \ n",
"</ DIV>"
]
"text/plin": [
"Count Sum mean \ n",
"debt debt debt \ n",
"children \ n",
"0 14090 1063 0.075444 \ n",
"1 4931 453 0.091868 \ n",
"2 2052 194 094542 \ n",
"3 330 27 0.081818 \ n",
"4 41 4 0.097561 \ n",
"5 9 0 0.000000"
]
}
"execution_count": 90,
"metadata": {},
"output_type": "execute_result"
}
]
"source": [
"df.pivot_table (index = ['children'], values ​​= 'debt', aggfunc = ['count', 'sum', 'mean'])")")
]
}
{
"cell_type": "markdown",
"id": "c166c06a",
"metadata": {},
"source": [
"\ "Problem \ "customers are with 1.2 and 4 children."
]
}
{
"cell_type": "markdown",
"id": "9e0f9c77",
"metadata": {},
"source": [
"Counted the shares by the formula."
]
}
{
"cell_type": "markdown",
"id": "750951ad",
"metadata": {},
"source": [
"## General conclusion:"
]
}
{
"cell_type": "markdown",
"id": "3b1ccf95",
"metadata": {},
"source": [
"Problem: you need to figure out whether the family position and the number of customer children affect the fact of repaying the loan on time. \ n",
"\ n",
"General conclusion: In the study, data on the solvency of various categories of customers were used. The data were cleared of anomalies and are brought to the form convenient for obtaining conclusions, namely, on the final tables, we see the shares of debtors by categories. Based on the results, we can draw the following conclusion - marital status affects the fact of repayment of a loan on time, the number of children also affects, but a little less noticeable. \ N"
]
}
]
"metadata": {
"kernelspec": {
"display_name": "python 3",
"Language": "python",
"name": "python3"
}
"language_info": {
"codemiror_mode": {
"name": "ipython",
"version": 3
}
"file_extance": ".py",
"mimtype": "text/x-python",
"name": "python",
"nbconvert_exporter": "python",
"pygments_lexer": "ipython3",
"version": "3.8.8"
}
"toc": {
"Base_numbering": 1,
"nav_menu": {},
"number_sections": true,
"sidebar": true,
"skip_h1_title": false,
"Title_cell": "Table of Contents",
"title_sidebar": "concentes",
"top_cell": false,
"top_position": {},
"toc_Section_display": true,
"top_window_display": false
}
}
"nbformat": 4,
"nbformat_minor": 5
}
